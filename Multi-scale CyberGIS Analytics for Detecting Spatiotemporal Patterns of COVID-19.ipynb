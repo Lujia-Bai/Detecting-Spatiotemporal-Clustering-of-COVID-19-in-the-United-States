{
 "cells": [
  {
   "cell_type": "markdown",
   "metadata": {},
   "source": [
    "<h1 style=\"text-align:center;line-height:1.5em;font-size:30px;\">Data and Notebook for <br>Multi-scale CyberGIS Analytics for Detecting Spatiotemporal Patterns of COVID-19</h1>\n",
    "<p style=\"text-align:center;font-size:12px;\">\n",
    "$Fangzheng$ $Lyu^{1,2}$; $JeonYoung$ $Kang^{3}$; $Shaohua$ $Wang^{1,2}$; $Su Yeon$ $Han^{1,2}$; $Zhiyu$ $Li^{1,2}$; $Shaowen$ $Wang^{1,2}$\n",
    "</p>\n",
    "<p style=\"text-align:center;font-size:12px;\">\n",
    "$^{1}$$Department$ $of$ $Geography$ $and$ $Geographic$ $Information$ $Science$, $University$ $of$ $Illinois$ $at$ $Urbana-Champaign$, $Urbana$, $IL$, $USA$<br>\n",
    "$^{2}$$CyberGIS$ $Center$ $for$ $Advanced$ $Digital$ $and$ $Spatial$ $Studies$, $University$ $of$ $Illinois$ $at$ $Urbana-Champaign$, $Urbana$, $IL$, $USA$<br>\n",
    "$^{3}$$Department$ $of$ $Geography$ $Education$, $Kongju$ $National$ $University$, $Gongjusi$, $Chungcheongnamdo$, $South Korea$<br>\n",
    "\n",
    "</p>\n",
    "\n",
    "---\n",
    "    \n",
    "**Notebook Structure:**\n",
    "- [Introduction](#introduction)\n",
    "- [Dataset](#data)\n",
    "- Codes\n",
    " - [data exploration](#exploration)\n",
    " - [data preprocessing](#preprocessing)\n",
    " - [Space time kernel density estimation](#stkde) \n",
    " - [postprocessing & analysis](#postprocessing)\n",
    " - [Visualization](#vis)"
   ]
  },
  {
   "cell_type": "markdown",
   "metadata": {},
   "source": [
    "<a id='introduction'></a>\n",
    "## Introduction\n",
    "\n",
    "The ongoing COVID-19 pandemic has put the world into an unprecedented situation causing massive impacts on people’s daily life and businesses. While there exist numerous geospatial data portals and resources for fighting against the COVID-19 crisis, a major challenge is that few of these are based on rigorous geospatial analysis and modeling as many simply report COVID-19 cases and summary statistics. To tackle this challenge, it requires detailed data on populations, health care services, and high-risk settings, along with decision support tools for geospatial analytics and place-based intervention. Dynamic and interactive mapping informed by rigorous geospatial analysis and modeling is urgently needed for understanding how COVID-19 spreads across a number of spatial and temporal scales in various population contexts and for supporting decision making to mitigate the spread and minimize negative impacts. However, such geospatial analysis and modeling are often computation- and data-intensive, and thus require integration with and enablement by cyberGIS—geospatial information science and systems (GIS) based on advanced cyberinfrastructure. Therefore, this study aims to develop a cutting-edge cyberGIS approach to answer the following two research questions: (1) where are spatiotemporal clusters of COVID-19 death cases in the United States? and (2) what is the correlation between COVID-19 death case clusters and related socioeconomic factors? To answer these questions, we conducted a space-time kernel density estimation (STKDE) to explore spatiotemporal intensities of COVID-19 deaths in the United States. The results from STKDE provide a multi-scale understanding of the COVID-19 severity by identifying a number of spatiotemporal clusters centered around urban areas. Furthermore, the additional spatial correlation analysis based on STKDE results shows that the clustering regions with higher death rates are related to certain population characteristics (e.g., racial and socioeconomic status), highlighting the impacts of health disparities."
   ]
  },
  {
   "cell_type": "markdown",
   "metadata": {},
   "source": [
    "<a id='data'></a>\n",
    "## Dataset\n",
    "\n",
    "COVID-19 related data are used in this nobebook\n",
    "\n",
    "  - **data/county.txt:** US counties information and fip code from Natural Resources Conservation Service\n",
    "\n",
    "  - **data/us-counties.txt:** County-level COVID-19 data collected from New York Times COVID-19 github repository on August 4th\n",
    "\n",
    "  - **data/covid_death.txt:** COVID-19 death information after processing us-counties.txt\n",
    "\n",
    "  - **data/stkdefinal.txt:** result from conducting space-timne kernel density estimation\n",
    "\n",
    "  - **wolfram_mathmatica/Visualization.nb:** code for visulization of STKDE result via weolfram mathmatica\n",
    "\n",
    "  - **img/above.png:** 3-D visulization, above view\n",
    "\n",
    "  - **img/side.png:** 3-D visulization, side view"
   ]
  },
  {
   "cell_type": "markdown",
   "metadata": {},
   "source": [
    "<a id='exploration'></a>\n",
    "## Data Exploration\n",
    "\n",
    "This section explore the county-level COVID-19 dataset collected from New York Times COVID-19 github repository and the county dataset."
   ]
  },
  {
   "cell_type": "markdown",
   "metadata": {},
   "source": [
    "Import libraries & Read dataset for data/county.txt. Form a dictionary for all the counties."
   ]
  },
  {
   "cell_type": "code",
   "execution_count": 1,
   "metadata": {},
   "outputs": [],
   "source": [
    "## import libraries needed\n",
    "import pandas as pd\n",
    "import geopandas as gpd\n",
    "import numpy as np\n",
    "from shapely.geometry import Point, LineString\n",
    "## create a dictionary\n",
    "county_dict = {}\n",
    "index = 0\n",
    "with open('./data/county.txt') as fp:\n",
    "    for cnt, line in enumerate(fp):\n",
    "        line_data = line.split(\"\\t\")\n",
    "        fips = line_data[2]\n",
    "        ## get the longitude & latitude\n",
    "        lat = float(line_data[12][1:-2])\n",
    "        lon = float(line_data[13][3:-3])*-1\n",
    "        county_dict[index]=(fips, lat, lon)\n",
    "        index = index+1"
   ]
  },
  {
   "cell_type": "markdown",
   "metadata": {},
   "source": [
    "Transform the geographic projection form 'epsg:4326' (longitude, latitude) to 'epsg:3857'."
   ]
  },
  {
   "cell_type": "code",
   "execution_count": 2,
   "metadata": {},
   "outputs": [
    {
     "name": "stderr",
     "output_type": "stream",
     "text": [
      "C:\\Users\\Owner\\Anaconda3\\lib\\site-packages\\pyproj\\crs\\crs.py:53: FutureWarning: '+init=<authority>:<code>' syntax is deprecated. '<authority>:<code>' is the preferred initialization method. When making the change, be mindful of axis order changes: https://pyproj4.github.io/pyproj/stable/gotchas.html#axis-order-changes-in-proj-6\n",
      "  return _prepare_from_string(\" \".join(pjargs))\n"
     ]
    }
   ],
   "source": [
    "## Create a geopandas dataframe for all the counties\n",
    "county_dict_df = pd.DataFrame.from_dict(county_dict, orient='index', columns=['id', 'latitude', 'longitude'])\n",
    "s = gpd.GeoSeries([Point(x,y) for x, y in zip(county_dict_df['longitude'], county_dict_df['latitude'])])\n",
    "geo_df = gpd.GeoDataFrame(county_dict_df[['id']], geometry=s)\n",
    "## transform the geographic projection form 'epsg:4326' to 'epsg:3857'.\n",
    "geo_df.crs = {'init': 'epsg:4326'} \n",
    "geo_df = geo_df.to_crs({'init': 'epsg:3857'})"
   ]
  },
  {
   "cell_type": "markdown",
   "metadata": {},
   "source": [
    "Create a dictionary with counties' fips to its spatial location"
   ]
  },
  {
   "cell_type": "code",
   "execution_count": 3,
   "metadata": {},
   "outputs": [],
   "source": [
    "## Create a dictionary\n",
    "final_county_dict = {}\n",
    "for index, row in geo_df.iterrows():\n",
    "    curr_id = row[\"id\"]\n",
    "    x = row[\"geometry\"].y\n",
    "    y = row[\"geometry\"].x\n",
    "    final_county_dict[curr_id] = (x, y)"
   ]
  },
  {
   "cell_type": "markdown",
   "metadata": {},
   "source": [
    "Read county-level COVID-19 data"
   ]
  },
  {
   "cell_type": "code",
   "execution_count": 4,
   "metadata": {
    "scrolled": false
   },
   "outputs": [
    {
     "data": {
      "text/html": [
       "<div>\n",
       "<style scoped>\n",
       "    .dataframe tbody tr th:only-of-type {\n",
       "        vertical-align: middle;\n",
       "    }\n",
       "\n",
       "    .dataframe tbody tr th {\n",
       "        vertical-align: top;\n",
       "    }\n",
       "\n",
       "    .dataframe thead th {\n",
       "        text-align: right;\n",
       "    }\n",
       "</style>\n",
       "<table border=\"1\" class=\"dataframe\">\n",
       "  <thead>\n",
       "    <tr style=\"text-align: right;\">\n",
       "      <th></th>\n",
       "      <th>date</th>\n",
       "      <th>county</th>\n",
       "      <th>state</th>\n",
       "      <th>fips</th>\n",
       "      <th>cases</th>\n",
       "      <th>deaths</th>\n",
       "    </tr>\n",
       "  </thead>\n",
       "  <tbody>\n",
       "    <tr>\n",
       "      <th>0</th>\n",
       "      <td>2020-01-21</td>\n",
       "      <td>Snohomish</td>\n",
       "      <td>Washington</td>\n",
       "      <td>53061.0</td>\n",
       "      <td>1</td>\n",
       "      <td>0</td>\n",
       "    </tr>\n",
       "    <tr>\n",
       "      <th>1</th>\n",
       "      <td>2020-01-22</td>\n",
       "      <td>Snohomish</td>\n",
       "      <td>Washington</td>\n",
       "      <td>53061.0</td>\n",
       "      <td>1</td>\n",
       "      <td>0</td>\n",
       "    </tr>\n",
       "    <tr>\n",
       "      <th>2</th>\n",
       "      <td>2020-01-23</td>\n",
       "      <td>Snohomish</td>\n",
       "      <td>Washington</td>\n",
       "      <td>53061.0</td>\n",
       "      <td>1</td>\n",
       "      <td>0</td>\n",
       "    </tr>\n",
       "    <tr>\n",
       "      <th>3</th>\n",
       "      <td>2020-01-24</td>\n",
       "      <td>Cook</td>\n",
       "      <td>Illinois</td>\n",
       "      <td>17031.0</td>\n",
       "      <td>1</td>\n",
       "      <td>0</td>\n",
       "    </tr>\n",
       "    <tr>\n",
       "      <th>4</th>\n",
       "      <td>2020-01-24</td>\n",
       "      <td>Snohomish</td>\n",
       "      <td>Washington</td>\n",
       "      <td>53061.0</td>\n",
       "      <td>1</td>\n",
       "      <td>0</td>\n",
       "    </tr>\n",
       "    <tr>\n",
       "      <th>...</th>\n",
       "      <td>...</td>\n",
       "      <td>...</td>\n",
       "      <td>...</td>\n",
       "      <td>...</td>\n",
       "      <td>...</td>\n",
       "      <td>...</td>\n",
       "    </tr>\n",
       "    <tr>\n",
       "      <th>418164</th>\n",
       "      <td>2020-08-09</td>\n",
       "      <td>Sweetwater</td>\n",
       "      <td>Wyoming</td>\n",
       "      <td>56037.0</td>\n",
       "      <td>259</td>\n",
       "      <td>2</td>\n",
       "    </tr>\n",
       "    <tr>\n",
       "      <th>418165</th>\n",
       "      <td>2020-08-09</td>\n",
       "      <td>Teton</td>\n",
       "      <td>Wyoming</td>\n",
       "      <td>56039.0</td>\n",
       "      <td>374</td>\n",
       "      <td>1</td>\n",
       "    </tr>\n",
       "    <tr>\n",
       "      <th>418166</th>\n",
       "      <td>2020-08-09</td>\n",
       "      <td>Uinta</td>\n",
       "      <td>Wyoming</td>\n",
       "      <td>56041.0</td>\n",
       "      <td>278</td>\n",
       "      <td>1</td>\n",
       "    </tr>\n",
       "    <tr>\n",
       "      <th>418167</th>\n",
       "      <td>2020-08-09</td>\n",
       "      <td>Washakie</td>\n",
       "      <td>Wyoming</td>\n",
       "      <td>56043.0</td>\n",
       "      <td>76</td>\n",
       "      <td>5</td>\n",
       "    </tr>\n",
       "    <tr>\n",
       "      <th>418168</th>\n",
       "      <td>2020-08-09</td>\n",
       "      <td>Weston</td>\n",
       "      <td>Wyoming</td>\n",
       "      <td>56045.0</td>\n",
       "      <td>5</td>\n",
       "      <td>0</td>\n",
       "    </tr>\n",
       "  </tbody>\n",
       "</table>\n",
       "<p>418169 rows × 6 columns</p>\n",
       "</div>"
      ],
      "text/plain": [
       "              date      county       state     fips  cases  deaths\n",
       "0       2020-01-21   Snohomish  Washington  53061.0      1       0\n",
       "1       2020-01-22   Snohomish  Washington  53061.0      1       0\n",
       "2       2020-01-23   Snohomish  Washington  53061.0      1       0\n",
       "3       2020-01-24        Cook    Illinois  17031.0      1       0\n",
       "4       2020-01-24   Snohomish  Washington  53061.0      1       0\n",
       "...            ...         ...         ...      ...    ...     ...\n",
       "418164  2020-08-09  Sweetwater     Wyoming  56037.0    259       2\n",
       "418165  2020-08-09       Teton     Wyoming  56039.0    374       1\n",
       "418166  2020-08-09       Uinta     Wyoming  56041.0    278       1\n",
       "418167  2020-08-09    Washakie     Wyoming  56043.0     76       5\n",
       "418168  2020-08-09      Weston     Wyoming  56045.0      5       0\n",
       "\n",
       "[418169 rows x 6 columns]"
      ]
     },
     "execution_count": 4,
     "metadata": {},
     "output_type": "execute_result"
    }
   ],
   "source": [
    "df = pd.read_csv(\"./data/us-counties.csv\")\n",
    "df"
   ]
  },
  {
   "cell_type": "markdown",
   "metadata": {},
   "source": [
    "Create a dictionary for death case and confirmed case for each day"
   ]
  },
  {
   "cell_type": "code",
   "execution_count": 5,
   "metadata": {},
   "outputs": [],
   "source": [
    "case_dict = {}\n",
    "death_dict = {}\n",
    "## loop the dataframe\n",
    "for i, row in enumerate(df.values):\n",
    "    time = row[0]\n",
    "    case = int(row[4])\n",
    "    death = int(row[5])\n",
    "    if time in case_dict.keys():\n",
    "        case_dict[time]=case_dict[time]+case\n",
    "    else:\n",
    "        case_dict[time]=case\n",
    "    if time in death_dict.keys():\n",
    "        death_dict[time]=death_dict[time]+death\n",
    "    else:\n",
    "        death_dict[time]=death"
   ]
  },
  {
   "cell_type": "markdown",
   "metadata": {},
   "source": [
    "Create a array for date"
   ]
  },
  {
   "cell_type": "code",
   "execution_count": 6,
   "metadata": {},
   "outputs": [],
   "source": [
    "import datetime\n",
    "date = 0\n",
    "date_arr = []\n",
    "def column(matrix, i):\n",
    "    return [row[i] for row in matrix]\n",
    "for i in range(0,len(column(case_dict.items(), 0))):\n",
    "    date_arr.append(datetime.datetime.strptime(column(case_dict.items(), 0)[i], '%Y-%m-%d'))"
   ]
  },
  {
   "cell_type": "markdown",
   "metadata": {},
   "source": [
    "Create a chart for COVID-19 Confirmed Cases & Death in US"
   ]
  },
  {
   "cell_type": "code",
   "execution_count": 7,
   "metadata": {
    "scrolled": true
   },
   "outputs": [
    {
     "data": {
      "text/plain": [
       "<matplotlib.legend.Legend at 0x2899430a648>"
      ]
     },
     "execution_count": 7,
     "metadata": {},
     "output_type": "execute_result"
    },
    {
     "data": {
      "image/png": "[encoded data removed]",
      "text/plain": [
       "<Figure size 480x320 with 1 Axes>"
      ]
     },
     "metadata": {
      "needs_background": "light"
     },
     "output_type": "display_data"
    }
   ],
   "source": [
    "## import libraries\n",
    "%matplotlib inline\n",
    "import matplotlib.pyplot as plt\n",
    "from matplotlib.pyplot import figure\n",
    "import numpy as np\n",
    "figure(figsize=(6, 4), dpi=80)\n",
    "plt.plot(date_arr, column(case_dict.items(), 1), \"-b\", label=\"Case\");\n",
    "plt.plot(date_arr, column(death_dict.items(), 1), \"-r\", label=\"Death\");\n",
    "plt.title(\"COVID-19 Confirmed Cases & Death in US\")\n",
    "plt.xlabel(\"Date\")\n",
    "plt.ylabel(\"Number\")\n",
    "plt.legend(loc=\"upper left\")"
   ]
  },
  {
   "cell_type": "markdown",
   "metadata": {},
   "source": [
    "<a id='preprocessing'></a>\n",
    "## Data Preprocessing\n",
    "This section does the data preprocessing for the COVID-19 data. The goal for this section is to transform the data we had into a format that can be used for space time kernel density estimation. At the end of this section, data/COVID-death.txt can be generated."
   ]
  },
  {
   "cell_type": "markdown",
   "metadata": {},
   "source": [
    "Iterate through the dataframe and create an array including information like (fips, spatial_x, spatial_y, date, number of death ). This block may takes several minutes."
   ]
  },
  {
   "cell_type": "code",
   "execution_count": 8,
   "metadata": {},
   "outputs": [],
   "source": [
    "rt = []\n",
    "##[lat, lon, time, case_no]\n",
    "for index, row in df.iterrows():\n",
    "    try:\n",
    "        fips = str(int(row[\"fips\"]))\n",
    "        if (len(fips)!=5):\n",
    "            fips = \"0\"+fips\n",
    "        lat = final_county_dict[fips][0]\n",
    "        lon = final_county_dict[fips][1]\n",
    "        if (int(row[\"deaths\"])!=0):\n",
    "            rt.append([fips, lat, lon, row[\"date\"], int(row[\"deaths\"])])\n",
    "    except:\n",
    "        pass"
   ]
  },
  {
   "cell_type": "markdown",
   "metadata": {},
   "source": [
    "Create dictionary for each county, it shows the information about how many death cases are there for each day."
   ]
  },
  {
   "cell_type": "code",
   "execution_count": 12,
   "metadata": {},
   "outputs": [],
   "source": [
    "county_case_dict = {}\n",
    "for i in range(0, len(rt)):\n",
    "    curr_fips = rt[i][0]\n",
    "    if (curr_fips in county_case_dict.keys()):\n",
    "        curr_date = rt[i][3]\n",
    "        curr_no = rt[i][4]\n",
    "        prev_no = 0\n",
    "        prev_record = county_case_dict[curr_fips]\n",
    "        for j in range(0, len(prev_record)):\n",
    "            prev_no = prev_no+prev_record[j][1]\n",
    "        ## Find the amount of cases on that day = cumulative amount of today - cumulative amount on yesterday\n",
    "        day_no = curr_no-prev_no\n",
    "        if (day_no!=0):\n",
    "            county_case_dict[curr_fips].append((curr_date, day_no))\n",
    "    else:\n",
    "        county_case_dict[curr_fips]=[(rt[i][3],rt[i][4])]"
   ]
  },
  {
   "cell_type": "markdown",
   "metadata": {},
   "source": [
    "format the data into (fips, spatial_x, spatial_y, date, number of death )"
   ]
  },
  {
   "cell_type": "code",
   "execution_count": 13,
   "metadata": {},
   "outputs": [],
   "source": [
    "final_rt = []\n",
    "total_case = 0\n",
    "for county in county_case_dict.keys():\n",
    "    lat = round(final_county_dict[county][0])\n",
    "    lon = round(final_county_dict[county][1])\n",
    "    record = county_case_dict[county]\n",
    "    for case in record:\n",
    "        date = case[0]\n",
    "        case_no = case[1]\n",
    "        curr_time = 0\n",
    "        #print(date)\n",
    "        mon = int(date.split(\"-\")[1])\n",
    "        day = int(date.split(\"-\")[2])\n",
    "        ## in the following blocks, it calcuate the data from the initial date\n",
    "        if (mon == 1):\n",
    "            curr_time = day-21\n",
    "        elif (mon == 2):\n",
    "            curr_time = 31+day-21\n",
    "        elif (mon == 3):\n",
    "            curr_time = 31+29+day-21 \n",
    "        elif (mon == 4):\n",
    "            curr_time = 31+29+31+day-21\n",
    "        elif (mon == 5):\n",
    "            curr_time = 31+29+31+30+day-21\n",
    "        elif (mon == 6):\n",
    "            curr_time = 31+29+31+30+31+day-21\n",
    "        elif (mon == 7):\n",
    "            curr_time = 31+29+31+30+31+30+day-21\n",
    "        elif (mon == 8):\n",
    "            curr_time = 31+29+31+30+31+30+31+day-21\n",
    "        curr_time = curr_time-38\n",
    "        total_case = total_case+case_no\n",
    "        for i in range(0, case_no):\n",
    "            final_time = curr_time+((i+1)/(case_no+1))\n",
    "            final_rt.append([lat, lon*(-1), final_time])"
   ]
  },
  {
   "cell_type": "markdown",
   "metadata": {},
   "source": [
    "This block of codes will make the result we got above into a string. And we will be able to store that data into covid_death.txt. This may takes several minutes."
   ]
  },
  {
   "cell_type": "code",
   "execution_count": 14,
   "metadata": {},
   "outputs": [],
   "source": [
    "## The first line determine the spatial domain fo the data, (x_min, x_max, y_min, y_max, t_min,.t_max)\n",
    "rt_str = \"4800000,6248205,7526239,13801502,0,164\\n\"\n",
    "for i in range(0, len(final_rt)):\n",
    "    rt_str = rt_str+str(final_rt[i][0])+\",\"+str(final_rt[i][1])+\",\"+str(final_rt[i][2])+\"\\n\"\n",
    "f = open(\"./data/covid_death.txt\", \"w\")\n",
    "## Write the data\n",
    "f.write(rt_str)\n",
    "f.close()"
   ]
  },
  {
   "cell_type": "markdown",
   "metadata": {},
   "source": [
    "<a id='stkde'></a>\n",
    "## Space Time Kernel Density Estimation (STKDE)\n",
    "This section includes all codes that are used to conduct the space time kernel density estimation. Since the initial configuration used in the original manuscrip consumes way too much time can are calcuated in parallel with high performance computer. This section uses low spatial & temporal resolution as well as only a small part of the dataset in order to conduct fast processing. However, users can feel free to change the parameter here to find result for finer resolution & whole dataset."
   ]
  },
  {
   "cell_type": "markdown",
   "metadata": {},
   "source": [
    "kernel density function defined here"
   ]
  },
  {
   "cell_type": "code",
   "execution_count": 15,
   "metadata": {},
   "outputs": [],
   "source": [
    "def densityF(x, y, t, xi, yi, ti, p1, p2, ct1, ct2):\n",
    "    ## x: current_x, y: current_y, t: current_t, xi: center_x, yi: center_y, ti_center_t\n",
    "    ## p1: spatial bandwidth, p2: temporal bandwidth, ct1, ct2: constant global variable\n",
    "    u = (x-xi) / p1 \n",
    "    v = (y-yi) / p1 \n",
    "    w = (t-ti) / p2 \n",
    "    Ks = ct1 * (1 - pow(u, 2) - pow(v, 2))\n",
    "    Kt = 0.75 * (1 - pow(w, 2))\n",
    "    spaceTimeKDE = ct2 * Ks * Kt\n",
    "    return spaceTimeKDE"
   ]
  },
  {
   "cell_type": "markdown",
   "metadata": {},
   "source": [
    "Set spatial & temporal bandwidth & resolution for the project. And read the file we processed in the previous section. User can set their own resolution & bandwidth."
   ]
  },
  {
   "cell_type": "code",
   "execution_count": 17,
   "metadata": {},
   "outputs": [],
   "source": [
    "import math, os, sys, math\n",
    "import numpy as np\n",
    "from datetime import datetime\n",
    "from scipy import spatial\n",
    "\n",
    "## Set parameter\n",
    "## User can set spatial resolution and temporal resolution smaller if user intends to have higher reolution result\n",
    "p1 = 300000 # p1 = spatial bandwidth\n",
    "p2 = 1.8 # p2 = temporal bandwidth\n",
    "p3 = 100000 # p3 = spatial resolution\n",
    "p4 = 10 # p4 = temporal resolution\n",
    "\n",
    "## read input file\n",
    "pFile = open('data/covid_death.txt', \"r\")\n",
    "inX, inY, inT = [], [], []\n",
    "r = pFile.readline().split(\",\")\n",
    "\n",
    "## set spatial and temporal boundory of the study\n",
    "xmin, xmax, ymin, ymax, zmin, zmax = float(r[0]), float(r[1]), float(r[2]), float(r[3]), float(r[4]), float(r[5].strip())\n",
    "\n",
    "for record in pFile:   \n",
    "    inX.append(float(record.split(\",\")[0]))\n",
    "    inY.append(float(record.split(\",\")[1]))\n",
    "    inT.append([float(record.split(\",\")[2])])\n",
    "pFile.close()"
   ]
  },
  {
   "cell_type": "markdown",
   "metadata": {},
   "source": [
    "Create an array to include spatial information."
   ]
  },
  {
   "cell_type": "code",
   "execution_count": 18,
   "metadata": {},
   "outputs": [],
   "source": [
    "inXY = []\n",
    "for i in range(0, len(inX)):\n",
    "    inXY.append([inX[i],inY[i]])"
   ]
  },
  {
   "cell_type": "markdown",
   "metadata": {},
   "source": [
    "Set global variables and form parameters used in STKDE"
   ]
  },
  {
   "cell_type": "code",
   "execution_count": 19,
   "metadata": {},
   "outputs": [],
   "source": [
    "## set up global variables\n",
    "npts = len(inX)\n",
    "ct1 = 0.5 * math.pi\n",
    "ct2 = pow(10.0, 5) / (npts * pow(p1, 2) * p2)\n",
    "\n",
    "## set up variables used in STKDE\n",
    "xminDiff = xmin%p3\n",
    "xmaxDiff = xmax%p3\n",
    "yminDiff = ymin%p3\n",
    "ymaxDiff = ymax%p3\n",
    "zminDiff = zmin%p4\n",
    "zmaxDiff = zmax%p4\n",
    "\n",
    "xminP = xmin - xminDiff + p3\n",
    "xmaxP = xmax - xmaxDiff + p3\n",
    "yminP = ymin - yminDiff + p3\n",
    "ymaxP = ymax - ymaxDiff + p3\n",
    "zminP = zmin - zminDiff + p4\n",
    "zmaxP = zmax - zmaxDiff + p4"
   ]
  },
  {
   "cell_type": "markdown",
   "metadata": {},
   "source": [
    "This steps takes part of the dataset instead of the whole dataset. Users can ignore this block if they wish to execute the whole dataset (it could be slow)."
   ]
  },
  {
   "cell_type": "code",
   "execution_count": 20,
   "metadata": {},
   "outputs": [],
   "source": [
    "inXY = inXY[0:5000]\n",
    "inT = inT[0:5000]"
   ]
  },
  {
   "cell_type": "markdown",
   "metadata": {},
   "source": [
    "Form grid point for the STKDE. And build a kd tree for the dataset for fast search of spatial points."
   ]
  },
  {
   "cell_type": "code",
   "execution_count": 21,
   "metadata": {},
   "outputs": [],
   "source": [
    "## form grid point with selected parameters\n",
    "xyGrid = []\n",
    "for i in np.arange(int(xminP),int(xmaxP),p3):\n",
    "    for j in np.arange(int(yminP),int(ymaxP),p3):\n",
    "        xyGrid.append([i,j])\n",
    "tGrid = []\n",
    "for k in range(int(zminP),int(zmaxP),p4):\n",
    "    tGrid.append([k])\n",
    "\n",
    "## build kd trees for the data point\n",
    "stree = spatial.cKDTree(inXY)\n",
    "ttree = spatial.cKDTree(inT)\n",
    "sList = stree.query_ball_point(xyGrid, p1)\n",
    "tList = ttree.query_ball_point(tGrid, p2)"
   ]
  },
  {
   "cell_type": "markdown",
   "metadata": {},
   "source": [
    "Conduct space time kernel density estimation"
   ]
  },
  {
   "cell_type": "code",
   "execution_count": 22,
   "metadata": {},
   "outputs": [],
   "source": [
    "i = 0\n",
    "stkde = []\n",
    "## loop though spatial neighbors\n",
    "while i < len(sList):\n",
    "    j = 0\n",
    "    #loop through temporal neighbors\n",
    "    while j < len(tList):\n",
    "        ## Fetch points that are within the spatial temporal range\n",
    "        nList = [val for val in sList[i] if val in tList[j]]\n",
    "        xC, yC, zC = xyGrid[i][0], xyGrid[i][1], tGrid[j]\n",
    "        density = 0.0\n",
    "        if nList:\n",
    "            for k in nList:\n",
    "                ## Get the density with kernel function\n",
    "                nindex = int(k)\n",
    "                density += densityF(inXY[nindex][0], inXY[nindex][1], inT[nindex][0], xC, yC, zC[0], p1, p2, ct1, ct2)\n",
    "            stkde.append(str(xC) + \",\" + str(yC) + \",\" + str(zC[0]) + \",\" + str(density))\n",
    "        j = j + 1\n",
    "    i = i + 1"
   ]
  },
  {
   "cell_type": "markdown",
   "metadata": {},
   "source": [
    "Check the first 10 results from STKDE calculation"
   ]
  },
  {
   "cell_type": "code",
   "execution_count": 23,
   "metadata": {},
   "outputs": [
    {
     "data": {
      "text/plain": [
       "['4900000,8000000,10,3.193376120819882e-13',\n",
       " '4900000,8000000,20,4.141353656124996e-12',\n",
       " '4900000,8000000,30,1.0661509296755989e-11',\n",
       " '4900000,8000000,40,1.2020653146050927e-10',\n",
       " '4900000,8000000,50,9.568561787280155e-11',\n",
       " '4900000,8000000,60,6.184906239528948e-11',\n",
       " '4900000,8000000,70,5.239184829786365e-11',\n",
       " '4900000,8000000,80,1.6032580464946517e-11',\n",
       " '4900000,8000000,90,2.8838434073612206e-11',\n",
       " '4900000,8000000,100,1.0046954746957706e-11']"
      ]
     },
     "execution_count": 23,
     "metadata": {},
     "output_type": "execute_result"
    }
   ],
   "source": [
    "stkde[0:10]"
   ]
  },
  {
   "cell_type": "markdown",
   "metadata": {},
   "source": [
    "<a id='postprocessing'></a>\n",
    "## Postprocessing & Analysis\n",
    "This section includes the processing and analysis of the dataset we got in the last section. We are using stkdefinal.txt, which is a files that the result of high-resolution STKDE."
   ]
  },
  {
   "cell_type": "markdown",
   "metadata": {},
   "source": [
    "Read the data file and create a dictionary with the data. This may takes a few minutes."
   ]
  },
  {
   "cell_type": "code",
   "execution_count": 25,
   "metadata": {},
   "outputs": [],
   "source": [
    "import numpy as np\n",
    "dict = {}\n",
    "temp = []\n",
    "## Specify the file path\n",
    "filepath = './data/stkdefinal.txt'\n",
    "with open(filepath) as fp:\n",
    "    for cnt, line in enumerate(fp):\n",
    "        try:\n",
    "            x = float(line.split(\",\")[0])\n",
    "            y = float(line.split(\",\")[1])\n",
    "            z = float(line.split(\",\")[2])\n",
    "            v = float(line.split(\",\")[3][:-1])\n",
    "            temp.append(v)\n",
    "            ## Create a dictionary\n",
    "            dict[(x,y,z)]=v\n",
    "        except:\n",
    "            pass"
   ]
  },
  {
   "cell_type": "markdown",
   "metadata": {},
   "source": [
    "Create an array for all STKDE result"
   ]
  },
  {
   "cell_type": "code",
   "execution_count": 28,
   "metadata": {},
   "outputs": [],
   "source": [
    "arr = []\n",
    "total = 0\n",
    "## loop through the stkde result\n",
    "for i in range(3000000, 6248205, 20000):\n",
    "    for j in range(7600000, 13801502, 20000):\n",
    "        for z in range(0, 163):\n",
    "            total = total+1\n",
    "            value = 0\n",
    "            try:\n",
    "                value = dict[(float(i),float(j),float(z))]\n",
    "            except:\n",
    "                pass\n",
    "            arr.append(value)"
   ]
  },
  {
   "cell_type": "markdown",
   "metadata": {},
   "source": [
    "Create a chart for Distribution of Normalized Density of STKDE"
   ]
  },
  {
   "cell_type": "code",
   "execution_count": 30,
   "metadata": {},
   "outputs": [
    {
     "data": {
      "image/png": "[encoded data removed]",
      "text/plain": [
       "<Figure size 432x288 with 1 Axes>"
      ]
     },
     "metadata": {
      "needs_background": "light"
     },
     "output_type": "display_data"
    }
   ],
   "source": [
    "import numpy as np\n",
    "import matplotlib.mlab as mlab\n",
    "import matplotlib.pyplot as plt\n",
    "from matplotlib.ticker import PercentFormatter\n",
    "%matplotlib inline\n",
    "## Normalize the data\n",
    "norm1 = arr / np.linalg.norm(arr)\n",
    "num_bins = 50\n",
    "n, bins, patches = plt.hist(norm1, num_bins, weights=np.ones(len(norm1)) / len(norm1), facecolor='black', alpha=0.5)\n",
    "plt.gca().yaxis.set_major_formatter(PercentFormatter(1))\n",
    "plt.title('Distribution of Normalized Density of STKDE')\n",
    "plt.xlabel('Standardized Density of STKDE')\n",
    "\n",
    "plt.show()"
   ]
  },
  {
   "cell_type": "markdown",
   "metadata": {},
   "source": [
    "Create a chart for Cumulative Distribution of Normalized Density of STKDE"
   ]
  },
  {
   "cell_type": "code",
   "execution_count": 31,
   "metadata": {},
   "outputs": [
    {
     "data": {
      "image/png": "[encoded data removed]",
      "text/plain": [
       "<Figure size 432x288 with 1 Axes>"
      ]
     },
     "metadata": {
      "needs_background": "light"
     },
     "output_type": "display_data"
    }
   ],
   "source": [
    "import numpy as np\n",
    "import matplotlib.mlab as mlab\n",
    "import matplotlib.pyplot as plt\n",
    "from matplotlib.ticker import PercentFormatter\n",
    "%matplotlib inline\n",
    "num_bins = 50\n",
    "values, base = np.histogram(norm1, num_bins)\n",
    "## find the cumulative distribution\n",
    "cumulative = np.cumsum(values)\n",
    "plt.plot(base[:-1], cumulative/max(cumulative), c='black')\n",
    "plt.gca().yaxis.set_major_formatter(PercentFormatter(1))\n",
    "plt.title('Cumulative Distribution of Normalized Density of STKDE')\n",
    "plt.xlabel('Standardized Density of STKDE')\n",
    "plt.show()"
   ]
  },
  {
   "cell_type": "markdown",
   "metadata": {},
   "source": [
    "<a id='vis'></a>\n",
    "## Visualization\n",
    "This section includes 3-D visulization of the STKDE result for COVID-19 death case distribution. The Calcuation is conducted with Wolfram Mathmatica, and the code used for this calculation are store in ./wolfram_mathmatica/visulization.nb."
   ]
  },
  {
   "cell_type": "markdown",
   "metadata": {},
   "source": [
    "Five clusters are detected with STKDE, which are centered around 1: New York City, 2: Chicago/Detroit/Indianapolis, 3: Houston, 4: Miami/Tampa, and 5: LA/San Diego. The figure provide above view."
   ]
  },
  {
   "cell_type": "markdown",
   "metadata": {},
   "source": [
    "<img src=\"img/above.png\">"
   ]
  },
  {
   "cell_type": "markdown",
   "metadata": {},
   "source": [
    "side view"
   ]
  },
  {
   "cell_type": "markdown",
   "metadata": {},
   "source": [
    "<img src=\"img/side.png\">"
   ]
  }
 ],
 "metadata": {
  "kernelspec": {
   "display_name": "Python 3",
   "language": "python",
   "name": "python3"
  },
  "language_info": {
   "codemirror_mode": {
    "name": "ipython",
    "version": 3
   },
   "file_extension": ".py",
   "mimetype": "text/x-python",
   "name": "python",
   "nbconvert_exporter": "python",
   "pygments_lexer": "ipython3",
   "version": "3.7.4"
  }
 },
 "nbformat": 4,
 "nbformat_minor": 4
}
