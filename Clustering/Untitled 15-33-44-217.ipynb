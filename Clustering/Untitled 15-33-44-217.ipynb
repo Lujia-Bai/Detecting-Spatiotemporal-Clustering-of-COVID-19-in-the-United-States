{
 "cells": [
  {
   "cell_type": "code",
   "execution_count": 36,
   "metadata": {},
   "outputs": [],
   "source": [
    "rt = []\n",
    "filepath = 'final_stkde.txt'\n",
    "with open(filepath) as fp:\n",
    "    for cnt, line in enumerate(fp):\n",
    "        curr = line.split(\",\")\n",
    "        rt.append([float(curr[0]), float(curr[1]), float(curr[2]), float(curr[3][:-1])])"
   ]
  },
  {
   "cell_type": "code",
   "execution_count": 37,
   "metadata": {},
   "outputs": [
    {
     "data": {
      "text/plain": [
       "[3000000.0, 8700000.0, 44.0, 3.5606519473684714e-13]"
      ]
     },
     "execution_count": 37,
     "metadata": {},
     "output_type": "execute_result"
    }
   ],
   "source": [
    "rt[0]"
   ]
  },
  {
   "cell_type": "code",
   "execution_count": 38,
   "metadata": {},
   "outputs": [],
   "source": [
    "def column(matrix, i):\n",
    "    return [row[i] for row in matrix]"
   ]
  },
  {
   "cell_type": "code",
   "execution_count": 39,
   "metadata": {},
   "outputs": [],
   "source": [
    "#import numpy as np\n",
    "#threshold = np.percentile(column(rt, 3), 99)"
   ]
  },
  {
   "cell_type": "code",
   "execution_count": 40,
   "metadata": {},
   "outputs": [],
   "source": [
    "arr = sorted(column(rt, 3), reverse=True)\n",
    "threshold = arr[3119]"
   ]
  },
  {
   "cell_type": "code",
   "execution_count": 41,
   "metadata": {},
   "outputs": [],
   "source": [
    "final_rt = []\n",
    "for i in range(0, len(rt)):\n",
    "    if (rt[i][3]>threshold):\n",
    "        final_rt.append(rt[i])"
   ]
  },
  {
   "cell_type": "code",
   "execution_count": 42,
   "metadata": {},
   "outputs": [
    {
     "data": {
      "text/plain": [
       "1.1225598498703742e-09"
      ]
     },
     "execution_count": 42,
     "metadata": {},
     "output_type": "execute_result"
    }
   ],
   "source": [
    "threshold"
   ]
  },
  {
   "cell_type": "code",
   "execution_count": 43,
   "metadata": {},
   "outputs": [
    {
     "data": {
      "text/plain": [
       "3119"
      ]
     },
     "execution_count": 43,
     "metadata": {},
     "output_type": "execute_result"
    }
   ],
   "source": [
    "len(final_rt)"
   ]
  },
  {
   "cell_type": "code",
   "execution_count": 10,
   "metadata": {},
   "outputs": [],
   "source": [
    "rt_str = \"{\"\n",
    "for i in range(0, len(final_rt)):\n",
    "    for j in range(0, int(round(final_rt[i][3]/threshold))):\n",
    "        rt_str = rt_str+\"{\"+str(final_rt[i][0])+\",\"+str(final_rt[i][1])+\",\"+str(final_rt[i][2])+\"},\"\n",
    "rt_str = rt_str+\"}\""
   ]
  },
  {
   "cell_type": "code",
   "execution_count": 11,
   "metadata": {},
   "outputs": [],
   "source": [
    "f = open(\"rt_new.txt\", \"w\")\n",
    "f.write(rt_str)\n",
    "f.close()"
   ]
  },
  {
   "cell_type": "code",
   "execution_count": 12,
   "metadata": {},
   "outputs": [],
   "source": [
    "cluster = {}"
   ]
  },
  {
   "cell_type": "code",
   "execution_count": 13,
   "metadata": {},
   "outputs": [
    {
     "data": {
      "text/plain": [
       "dict_keys([])"
      ]
     },
     "execution_count": 13,
     "metadata": {},
     "output_type": "execute_result"
    }
   ],
   "source": [
    "cluster.keys()"
   ]
  },
  {
   "cell_type": "code",
   "execution_count": 15,
   "metadata": {},
   "outputs": [
    {
     "data": {
      "text/plain": [
       "75.0"
      ]
     },
     "execution_count": 15,
     "metadata": {},
     "output_type": "execute_result"
    }
   ],
   "source": [
    "max(column(final_rt, 2))"
   ]
  },
  {
   "cell_type": "code",
   "execution_count": 16,
   "metadata": {},
   "outputs": [],
   "source": [
    "arr = sorted(column(rt, 3), reverse=True)"
   ]
  },
  {
   "cell_type": "code",
   "execution_count": 26,
   "metadata": {},
   "outputs": [],
   "source": [
    "long= [-73.970174, -87.645455, -95.393037, -118.261862, -80.499045, -84.468182, -121.832375, -123.032229, -104.880625]\n",
    "lat = [40.776557,41.894294, 29.857273, 34.196398, 25.610494, 33.790034, 47.493554, 37.727239, 39.761849]"
   ]
  },
  {
   "cell_type": "code",
   "execution_count": 29,
   "metadata": {},
   "outputs": [],
   "source": [
    "import geopandas as gpd\n",
    "import pandas as pd\n",
    "from shapely.geometry import Point\n",
    "df = pd.DataFrame({'id': [\"New York City\", \"Chicago\", \"Houston\", \"LA\", \"Miami\", \"Atlanta\", \"Seattle\", \"San Francisco\", \"Denver\"], 'longitude': long, 'latitude': lat})\n",
    "s = gpd.GeoSeries([Point(x,y) for x, y in zip(df['longitude'], df['latitude'])])\n",
    "\n",
    "geo_df = gpd.GeoDataFrame(df[['id']], geometry=s)\n",
    "# Define crs for our geodataframe:\n",
    "geo_df.crs = {'init': 'epsg:4326'} \n",
    "\n",
    "geo_df = geo_df.to_crs({'init': 'epsg:3857'})"
   ]
  },
  {
   "cell_type": "code",
   "execution_count": null,
   "metadata": {},
   "outputs": [],
   "source": []
  },
  {
   "cell_type": "code",
   "execution_count": 30,
   "metadata": {},
   "outputs": [
    {
     "data": {
      "text/html": [
       "<div>\n",
       "<style scoped>\n",
       "    .dataframe tbody tr th:only-of-type {\n",
       "        vertical-align: middle;\n",
       "    }\n",
       "\n",
       "    .dataframe tbody tr th {\n",
       "        vertical-align: top;\n",
       "    }\n",
       "\n",
       "    .dataframe thead th {\n",
       "        text-align: right;\n",
       "    }\n",
       "</style>\n",
       "<table border=\"1\" class=\"dataframe\">\n",
       "  <thead>\n",
       "    <tr style=\"text-align: right;\">\n",
       "      <th></th>\n",
       "      <th>id</th>\n",
       "      <th>geometry</th>\n",
       "    </tr>\n",
       "  </thead>\n",
       "  <tbody>\n",
       "    <tr>\n",
       "      <th>0</th>\n",
       "      <td>New York City</td>\n",
       "      <td>POINT (-8234322.104 4979439.528)</td>\n",
       "    </tr>\n",
       "    <tr>\n",
       "      <th>1</th>\n",
       "      <td>Chicago</td>\n",
       "      <td>POINT (-9756647.421 5145158.326)</td>\n",
       "    </tr>\n",
       "    <tr>\n",
       "      <th>2</th>\n",
       "      <td>Houston</td>\n",
       "      <td>POINT (-10619104.304 3485216.780)</td>\n",
       "    </tr>\n",
       "    <tr>\n",
       "      <th>3</th>\n",
       "      <td>LA</td>\n",
       "      <td>POINT (-13164850.258 4055204.064)</td>\n",
       "    </tr>\n",
       "    <tr>\n",
       "      <th>4</th>\n",
       "      <td>Miami</td>\n",
       "      <td>POINT (-8961112.699 2950918.389)</td>\n",
       "    </tr>\n",
       "    <tr>\n",
       "      <th>5</th>\n",
       "      <td>Atlanta</td>\n",
       "      <td>POINT (-9402955.008 4000643.446)</td>\n",
       "    </tr>\n",
       "    <tr>\n",
       "      <th>6</th>\n",
       "      <td>Seattle</td>\n",
       "      <td>POINT (-13562317.947 6023010.053)</td>\n",
       "    </tr>\n",
       "    <tr>\n",
       "      <th>7</th>\n",
       "      <td>San Francisco</td>\n",
       "      <td>POINT (-13695885.083 4540965.167)</td>\n",
       "    </tr>\n",
       "    <tr>\n",
       "      <th>8</th>\n",
       "      <td>Denver</td>\n",
       "      <td>POINT (-11675257.769 4831394.937)</td>\n",
       "    </tr>\n",
       "  </tbody>\n",
       "</table>\n",
       "</div>"
      ],
      "text/plain": [
       "              id                           geometry\n",
       "0  New York City   POINT (-8234322.104 4979439.528)\n",
       "1        Chicago   POINT (-9756647.421 5145158.326)\n",
       "2        Houston  POINT (-10619104.304 3485216.780)\n",
       "3             LA  POINT (-13164850.258 4055204.064)\n",
       "4          Miami   POINT (-8961112.699 2950918.389)\n",
       "5        Atlanta   POINT (-9402955.008 4000643.446)\n",
       "6        Seattle  POINT (-13562317.947 6023010.053)\n",
       "7  San Francisco  POINT (-13695885.083 4540965.167)\n",
       "8         Denver  POINT (-11675257.769 4831394.937)"
      ]
     },
     "execution_count": 30,
     "metadata": {},
     "output_type": "execute_result"
    }
   ],
   "source": [
    "geo_df"
   ]
  },
  {
   "cell_type": "code",
   "execution_count": 32,
   "metadata": {},
   "outputs": [
    {
     "data": {
      "text/plain": [
       "[3000000.0, 8800000.0, 65.0, 1.143465070023482e-09]"
      ]
     },
     "execution_count": 32,
     "metadata": {},
     "output_type": "execute_result"
    }
   ],
   "source": []
  },
  {
   "cell_type": "code",
   "execution_count": 45,
   "metadata": {},
   "outputs": [],
   "source": [
    "for i in range(0, len(final_rt)):\n",
    "    temp_x = final_rt[i][0]\n",
    "    temp_y = final_rt[i][1]\n",
    "    final_rt[i][0]= -1*temp_y\n",
    "    final_rt[i][1]= temp_x\n",
    "    final_rt[i][3]= final_rt[i][3]/(6.487534251720931e-07)"
   ]
  },
  {
   "cell_type": "code",
   "execution_count": 47,
   "metadata": {},
   "outputs": [
    {
     "data": {
      "text/plain": [
       "[-8800000.0, 3000000.0, 66.0, 0.0022857463389333375]"
      ]
     },
     "execution_count": 47,
     "metadata": {},
     "output_type": "execute_result"
    }
   ],
   "source": [
    "final_rt[1]"
   ]
  },
  {
   "cell_type": "code",
   "execution_count": 48,
   "metadata": {},
   "outputs": [],
   "source": [
    "def column(matrix, i):\n",
    "    return [row[i] for row in matrix]"
   ]
  },
  {
   "cell_type": "code",
   "execution_count": 62,
   "metadata": {},
   "outputs": [
    {
     "name": "stdout",
     "output_type": "stream",
     "text": [
      "-8234322.103569845\n",
      "-9756647.420944773\n",
      "-10619104.304063905\n",
      "-13164850.25810439\n",
      "-8961112.698744815\n",
      "-9402955.008473556\n",
      "-13562317.947135154\n",
      "-13695885.083441427\n",
      "-11675257.769080278\n"
     ]
    }
   ],
   "source": [
    "for index, row in geo_df.iterrows():\n",
    "    index = row[0]\n",
    "    x = row[1].x\n",
    "    y = row[1].y\n",
    "    print (x)"
   ]
  },
  {
   "cell_type": "code",
   "execution_count": 122,
   "metadata": {},
   "outputs": [
    {
     "data": {
      "text/plain": [
       "datetime.datetime(2020, 1, 22, 0, 0)"
      ]
     },
     "execution_count": 122,
     "metadata": {},
     "output_type": "execute_result"
    }
   ],
   "source": [
    "from datetime import datetime, timedelta\n",
    "x = datetime(2020, 1, 21)+timedelta(days=1.0)\n",
    "x"
   ]
  },
  {
   "cell_type": "code",
   "execution_count": 117,
   "metadata": {},
   "outputs": [
    {
     "data": {
      "text/plain": [
       "[-8800000.0, 3000000.0, 65.0, 0.0017625572762412127]"
      ]
     },
     "execution_count": 117,
     "metadata": {},
     "output_type": "execute_result"
    }
   ],
   "source": [
    "final_rt[0]"
   ]
  },
  {
   "cell_type": "code",
   "execution_count": 123,
   "metadata": {},
   "outputs": [],
   "source": [
    "from datetime import datetime, timedelta\n",
    "final_dict = {}\n",
    "for i in range(0, len(final_rt)):\n",
    "    min_dist_index = \"NA\"\n",
    "    min_dist = \"NA\"\n",
    "    curr_x = final_rt[i][0]\n",
    "    curr_y = final_rt[i][1]\n",
    "    curr_t = datetime(2020, 1, 21)+timedelta(days=int(final_rt[i][2]))\n",
    "    curr_v = final_rt[i][3]   \n",
    "    for index, row in geo_df.iterrows():\n",
    "        index = row[0]\n",
    "        x = row[1].x\n",
    "        y = row[1].y\n",
    "        temp_dist = (curr_x-x)**2+(curr_y-y)**2\n",
    "        if (min_dist==\"NA\" or temp_dist<min_dist):\n",
    "            min_dist = temp_dist\n",
    "            min_dist_index = index\n",
    "    try:\n",
    "        final_dict[min_dist_index].append( (curr_v,curr_t) )\n",
    "    except:\n",
    "        final_dict[min_dist_index]=[(curr_v,curr_t)]\n",
    "        \n",
    "    \n",
    "    "
   ]
  },
  {
   "cell_type": "code",
   "execution_count": 124,
   "metadata": {},
   "outputs": [
    {
     "data": {
      "text/plain": [
       "dict_keys(['Miami', 'Houston', 'Atlanta', 'LA', 'New York City', 'San Francisco', 'Chicago', 'Denver', 'Seattle'])"
      ]
     },
     "execution_count": 124,
     "metadata": {},
     "output_type": "execute_result"
    }
   ],
   "source": [
    "final_dict.keys()"
   ]
  },
  {
   "cell_type": "code",
   "execution_count": 128,
   "metadata": {},
   "outputs": [
    {
     "data": {
      "text/plain": [
       "datetime.datetime(2020, 3, 26, 0, 0)"
      ]
     },
     "execution_count": 128,
     "metadata": {},
     "output_type": "execute_result"
    }
   ],
   "source": [
    "curr_dict={}\n",
    "data = final_dict['Miami']\n",
    "for data\n"
   ]
  },
  {
   "cell_type": "code",
   "execution_count": 104,
   "metadata": {},
   "outputs": [],
   "source": [
    "count=0\n",
    "for key in final_dict.keys():\n",
    "    data = final_dict[key]\n",
    "    for i in range(0, len(data)):\n",
    "        final_df.loc[count]=[key]+[float(data[i])]\n",
    "        count= count+1\n",
    "\n"
   ]
  },
  {
   "cell_type": "code",
   "execution_count": 103,
   "metadata": {},
   "outputs": [
    {
     "data": {
      "text/html": [
       "<div>\n",
       "<style scoped>\n",
       "    .dataframe tbody tr th:only-of-type {\n",
       "        vertical-align: middle;\n",
       "    }\n",
       "\n",
       "    .dataframe tbody tr th {\n",
       "        vertical-align: top;\n",
       "    }\n",
       "\n",
       "    .dataframe thead th {\n",
       "        text-align: right;\n",
       "    }\n",
       "</style>\n",
       "<table border=\"1\" class=\"dataframe\">\n",
       "  <thead>\n",
       "    <tr style=\"text-align: right;\">\n",
       "      <th></th>\n",
       "      <th>Cluster</th>\n",
       "      <th>Normalized Output from STKDE</th>\n",
       "    </tr>\n",
       "  </thead>\n",
       "  <tbody>\n",
       "  </tbody>\n",
       "</table>\n",
       "</div>"
      ],
      "text/plain": [
       "Empty DataFrame\n",
       "Columns: [Cluster, Normalized Output from STKDE]\n",
       "Index: []"
      ]
     },
     "execution_count": 103,
     "metadata": {},
     "output_type": "execute_result"
    }
   ],
   "source": [
    "final_df = pd.DataFrame(columns=['Cluster', 'Normalized Output from STKDE'])\n",
    "final_df"
   ]
  },
  {
   "cell_type": "code",
   "execution_count": 105,
   "metadata": {},
   "outputs": [
    {
     "data": {
      "text/html": [
       "<div>\n",
       "<style scoped>\n",
       "    .dataframe tbody tr th:only-of-type {\n",
       "        vertical-align: middle;\n",
       "    }\n",
       "\n",
       "    .dataframe tbody tr th {\n",
       "        vertical-align: top;\n",
       "    }\n",
       "\n",
       "    .dataframe thead th {\n",
       "        text-align: right;\n",
       "    }\n",
       "</style>\n",
       "<table border=\"1\" class=\"dataframe\">\n",
       "  <thead>\n",
       "    <tr style=\"text-align: right;\">\n",
       "      <th></th>\n",
       "      <th>Cluster</th>\n",
       "      <th>Normalized Output from STKDE</th>\n",
       "    </tr>\n",
       "  </thead>\n",
       "  <tbody>\n",
       "    <tr>\n",
       "      <th>0</th>\n",
       "      <td>Miami</td>\n",
       "      <td>0.001763</td>\n",
       "    </tr>\n",
       "    <tr>\n",
       "      <th>1</th>\n",
       "      <td>Miami</td>\n",
       "      <td>0.002286</td>\n",
       "    </tr>\n",
       "    <tr>\n",
       "      <th>2</th>\n",
       "      <td>Miami</td>\n",
       "      <td>0.002904</td>\n",
       "    </tr>\n",
       "    <tr>\n",
       "      <th>3</th>\n",
       "      <td>Miami</td>\n",
       "      <td>0.003302</td>\n",
       "    </tr>\n",
       "    <tr>\n",
       "      <th>4</th>\n",
       "      <td>Miami</td>\n",
       "      <td>0.003304</td>\n",
       "    </tr>\n",
       "    <tr>\n",
       "      <th>...</th>\n",
       "      <td>...</td>\n",
       "      <td>...</td>\n",
       "    </tr>\n",
       "    <tr>\n",
       "      <th>3114</th>\n",
       "      <td>Seattle</td>\n",
       "      <td>0.001753</td>\n",
       "    </tr>\n",
       "    <tr>\n",
       "      <th>3115</th>\n",
       "      <td>Seattle</td>\n",
       "      <td>0.002093</td>\n",
       "    </tr>\n",
       "    <tr>\n",
       "      <th>3116</th>\n",
       "      <td>Seattle</td>\n",
       "      <td>0.001968</td>\n",
       "    </tr>\n",
       "    <tr>\n",
       "      <th>3117</th>\n",
       "      <td>Seattle</td>\n",
       "      <td>0.001946</td>\n",
       "    </tr>\n",
       "    <tr>\n",
       "      <th>3118</th>\n",
       "      <td>Seattle</td>\n",
       "      <td>0.001807</td>\n",
       "    </tr>\n",
       "  </tbody>\n",
       "</table>\n",
       "<p>3119 rows × 2 columns</p>\n",
       "</div>"
      ],
      "text/plain": [
       "      Cluster  Normalized Output from STKDE\n",
       "0       Miami                      0.001763\n",
       "1       Miami                      0.002286\n",
       "2       Miami                      0.002904\n",
       "3       Miami                      0.003302\n",
       "4       Miami                      0.003304\n",
       "...       ...                           ...\n",
       "3114  Seattle                      0.001753\n",
       "3115  Seattle                      0.002093\n",
       "3116  Seattle                      0.001968\n",
       "3117  Seattle                      0.001946\n",
       "3118  Seattle                      0.001807\n",
       "\n",
       "[3119 rows x 2 columns]"
      ]
     },
     "execution_count": 105,
     "metadata": {},
     "output_type": "execute_result"
    }
   ],
   "source": [
    "final_df"
   ]
  },
  {
   "cell_type": "code",
   "execution_count": 227,
   "metadata": {},
   "outputs": [
    {
     "data": {
      "text/plain": [
       "Text(0.5, 0, 'Cluster')"
      ]
     },
     "execution_count": 227,
     "metadata": {},
     "output_type": "execute_result"
    },
    {
     "data": {
      "image/png": "[encoded data removed]",
      "text/plain": [
       "<Figure size 1800x648 with 1 Axes>"
      ]
     },
     "metadata": {
      "needs_background": "light"
     },
     "output_type": "display_data"
    }
   ],
   "source": [
    "%matplotlib inline\n",
    "plt.figure(figsize=(25,9))\n",
    "import seaborn as sns\n",
    "import matplotlib.pyplot as plt\n",
    "\n",
    "sns.set(rc={'figure.figsize':(11.7,8.27)})\n",
    "#sns.title(\"He\")\n",
    "# Add notch\n",
    "b=sns.boxplot( x=final_df[\"Cluster\"], y=final_df[\"Normalized Output from STKDE\"], notch=True, showfliers=False)\n",
    "\n",
    "b.axes.set_title(\"a) Normalized Output from STKDE for each Cluster\",fontsize=30)\n",
    "b.set_ylabel(\"Normalized Output from STKDE\",fontsize=20)\n",
    "b.set_xlabel(\"Cluster\",fontsize=20)\n",
    "#.set_title(\"a) Normalized Output from STKDE for each Cluster\")\n",
    "#sns.plt.show()\n"
   ]
  },
  {
   "cell_type": "code",
   "execution_count": 73,
   "metadata": {},
   "outputs": [],
   "source": [
    "y=df[\"sepal_length\"]"
   ]
  },
  {
   "cell_type": "code",
   "execution_count": 75,
   "metadata": {},
   "outputs": [
    {
     "data": {
      "text/html": [
       "<div>\n",
       "<style scoped>\n",
       "    .dataframe tbody tr th:only-of-type {\n",
       "        vertical-align: middle;\n",
       "    }\n",
       "\n",
       "    .dataframe tbody tr th {\n",
       "        vertical-align: top;\n",
       "    }\n",
       "\n",
       "    .dataframe thead th {\n",
       "        text-align: right;\n",
       "    }\n",
       "</style>\n",
       "<table border=\"1\" class=\"dataframe\">\n",
       "  <thead>\n",
       "    <tr style=\"text-align: right;\">\n",
       "      <th></th>\n",
       "      <th>sepal_length</th>\n",
       "      <th>sepal_width</th>\n",
       "      <th>petal_length</th>\n",
       "      <th>petal_width</th>\n",
       "      <th>species</th>\n",
       "    </tr>\n",
       "  </thead>\n",
       "  <tbody>\n",
       "    <tr>\n",
       "      <th>0</th>\n",
       "      <td>5.1</td>\n",
       "      <td>3.5</td>\n",
       "      <td>1.4</td>\n",
       "      <td>0.2</td>\n",
       "      <td>setosa</td>\n",
       "    </tr>\n",
       "    <tr>\n",
       "      <th>1</th>\n",
       "      <td>4.9</td>\n",
       "      <td>3.0</td>\n",
       "      <td>1.4</td>\n",
       "      <td>0.2</td>\n",
       "      <td>setosa</td>\n",
       "    </tr>\n",
       "    <tr>\n",
       "      <th>2</th>\n",
       "      <td>4.7</td>\n",
       "      <td>3.2</td>\n",
       "      <td>1.3</td>\n",
       "      <td>0.2</td>\n",
       "      <td>setosa</td>\n",
       "    </tr>\n",
       "    <tr>\n",
       "      <th>3</th>\n",
       "      <td>4.6</td>\n",
       "      <td>3.1</td>\n",
       "      <td>1.5</td>\n",
       "      <td>0.2</td>\n",
       "      <td>setosa</td>\n",
       "    </tr>\n",
       "    <tr>\n",
       "      <th>4</th>\n",
       "      <td>5.0</td>\n",
       "      <td>3.6</td>\n",
       "      <td>1.4</td>\n",
       "      <td>0.2</td>\n",
       "      <td>setosa</td>\n",
       "    </tr>\n",
       "    <tr>\n",
       "      <th>...</th>\n",
       "      <td>...</td>\n",
       "      <td>...</td>\n",
       "      <td>...</td>\n",
       "      <td>...</td>\n",
       "      <td>...</td>\n",
       "    </tr>\n",
       "    <tr>\n",
       "      <th>145</th>\n",
       "      <td>6.7</td>\n",
       "      <td>3.0</td>\n",
       "      <td>5.2</td>\n",
       "      <td>2.3</td>\n",
       "      <td>virginica</td>\n",
       "    </tr>\n",
       "    <tr>\n",
       "      <th>146</th>\n",
       "      <td>6.3</td>\n",
       "      <td>2.5</td>\n",
       "      <td>5.0</td>\n",
       "      <td>1.9</td>\n",
       "      <td>virginica</td>\n",
       "    </tr>\n",
       "    <tr>\n",
       "      <th>147</th>\n",
       "      <td>6.5</td>\n",
       "      <td>3.0</td>\n",
       "      <td>5.2</td>\n",
       "      <td>2.0</td>\n",
       "      <td>virginica</td>\n",
       "    </tr>\n",
       "    <tr>\n",
       "      <th>148</th>\n",
       "      <td>6.2</td>\n",
       "      <td>3.4</td>\n",
       "      <td>5.4</td>\n",
       "      <td>2.3</td>\n",
       "      <td>virginica</td>\n",
       "    </tr>\n",
       "    <tr>\n",
       "      <th>149</th>\n",
       "      <td>5.9</td>\n",
       "      <td>3.0</td>\n",
       "      <td>5.1</td>\n",
       "      <td>1.8</td>\n",
       "      <td>virginica</td>\n",
       "    </tr>\n",
       "  </tbody>\n",
       "</table>\n",
       "<p>150 rows × 5 columns</p>\n",
       "</div>"
      ],
      "text/plain": [
       "     sepal_length  sepal_width  petal_length  petal_width    species\n",
       "0             5.1          3.5           1.4          0.2     setosa\n",
       "1             4.9          3.0           1.4          0.2     setosa\n",
       "2             4.7          3.2           1.3          0.2     setosa\n",
       "3             4.6          3.1           1.5          0.2     setosa\n",
       "4             5.0          3.6           1.4          0.2     setosa\n",
       "..            ...          ...           ...          ...        ...\n",
       "145           6.7          3.0           5.2          2.3  virginica\n",
       "146           6.3          2.5           5.0          1.9  virginica\n",
       "147           6.5          3.0           5.2          2.0  virginica\n",
       "148           6.2          3.4           5.4          2.3  virginica\n",
       "149           5.9          3.0           5.1          1.8  virginica\n",
       "\n",
       "[150 rows x 5 columns]"
      ]
     },
     "execution_count": 75,
     "metadata": {},
     "output_type": "execute_result"
    }
   ],
   "source": [
    "df"
   ]
  },
  {
   "cell_type": "code",
   "execution_count": 142,
   "metadata": {},
   "outputs": [],
   "source": [
    "curr_dict={}\n",
    "data = final_dict['Houston']\n",
    "for i in range(0, len(data)):\n",
    "    v = data[i][0]\n",
    "    t = data[i][1]\n",
    "    if (t!=datetime(2020, 4, 5)):\n",
    "        if t not in curr_dict.keys():\n",
    "            curr_dict[t]=v\n",
    "        elif (curr_dict[t]<v):\n",
    "            curr_dict[t]=v"
   ]
  },
  {
   "cell_type": "code",
   "execution_count": 159,
   "metadata": {},
   "outputs": [],
   "source": [
    "miami = list(curr_dict.items())"
   ]
  },
  {
   "cell_type": "code",
   "execution_count": 162,
   "metadata": {},
   "outputs": [
    {
     "data": {
      "text/plain": [
       "[(datetime.datetime(2020, 4, 3, 0, 0), 0.013991186678816879),\n",
       " (datetime.datetime(2020, 3, 31, 0, 0), 0.005826526773297819),\n",
       " (datetime.datetime(2020, 4, 1, 0, 0), 0.009410166254591063),\n",
       " (datetime.datetime(2020, 4, 2, 0, 0), 0.013108091290134677),\n",
       " (datetime.datetime(2020, 4, 4, 0, 0), 0.011522914217968711),\n",
       " (datetime.datetime(2020, 3, 28, 0, 0), 0.0033560008130938766),\n",
       " (datetime.datetime(2020, 3, 26, 0, 0), 0.0030316134613668755),\n",
       " (datetime.datetime(2020, 3, 27, 0, 0), 0.003428654227106684),\n",
       " (datetime.datetime(2020, 3, 29, 0, 0), 0.002911343858389361),\n",
       " (datetime.datetime(2020, 3, 30, 0, 0), 0.00347720261671367),\n",
       " (datetime.datetime(2020, 3, 25, 0, 0), 0.00245995293824199),\n",
       " (datetime.datetime(2020, 3, 24, 0, 0), 0.0020152148056942236)]"
      ]
     },
     "execution_count": 162,
     "metadata": {},
     "output_type": "execute_result"
    }
   ],
   "source": [
    "miami"
   ]
  },
  {
   "cell_type": "code",
   "execution_count": 168,
   "metadata": {},
   "outputs": [
    {
     "data": {
      "text/plain": [
       "[(datetime.datetime(2020, 3, 24, 0, 0), 0.0020152148056942236),\n",
       " (datetime.datetime(2020, 3, 25, 0, 0), 0.00245995293824199),\n",
       " (datetime.datetime(2020, 3, 26, 0, 0), 0.0030316134613668755),\n",
       " (datetime.datetime(2020, 3, 27, 0, 0), 0.003428654227106684),\n",
       " (datetime.datetime(2020, 3, 28, 0, 0), 0.0033560008130938766),\n",
       " (datetime.datetime(2020, 3, 29, 0, 0), 0.002911343858389361),\n",
       " (datetime.datetime(2020, 3, 30, 0, 0), 0.00347720261671367),\n",
       " (datetime.datetime(2020, 3, 31, 0, 0), 0.005826526773297819),\n",
       " (datetime.datetime(2020, 4, 1, 0, 0), 0.009410166254591063),\n",
       " (datetime.datetime(2020, 4, 2, 0, 0), 0.013108091290134677),\n",
       " (datetime.datetime(2020, 4, 3, 0, 0), 0.013991186678816879),\n",
       " (datetime.datetime(2020, 4, 4, 0, 0), 0.011522914217968711)]"
      ]
     },
     "execution_count": 168,
     "metadata": {},
     "output_type": "execute_result"
    }
   ],
   "source": [
    "sorted_miami = sorted(miami, key=lambda i: i[0], reverse=False)\n",
    "sorted_miami"
   ]
  },
  {
   "cell_type": "code",
   "execution_count": 169,
   "metadata": {},
   "outputs": [
    {
     "data": {
      "text/plain": [
       "[<matplotlib.lines.Line2D at 0x141286050>]"
      ]
     },
     "execution_count": 169,
     "metadata": {},
     "output_type": "execute_result"
    },
    {
     "data": {
      "image/png": "[encoded data removed]",
      "text/plain": [
       "<Figure size 842.4x595.44 with 1 Axes>"
      ]
     },
     "metadata": {},
     "output_type": "display_data"
    }
   ],
   "source": [
    "plt.plot(column(sorted_miami, 0), column(sorted_miami, 1), '-ok')"
   ]
  },
  {
   "cell_type": "code",
   "execution_count": 221,
   "metadata": {},
   "outputs": [
    {
     "data": {
      "text/plain": [
       "<matplotlib.legend.Legend at 0x14a3c8e90>"
      ]
     },
     "execution_count": 221,
     "metadata": {},
     "output_type": "execute_result"
    },
    {
     "data": {
      "image/png": "[encoded data removed]",
      "text/plain": [
       "<Figure size 1800x648 with 1 Axes>"
      ]
     },
     "metadata": {},
     "output_type": "display_data"
    }
   ],
   "source": [
    "import matplotlib\n",
    "font = {'family' : 'normal',\n",
    "        'weight' : 'bold',\n",
    "        'size'   : 40}\n",
    "\n",
    "matplotlib.rc('font', **font)\n",
    "plt.figure(figsize=(25,9))\n",
    "curr_dict={}\n",
    "data = final_dict['Houston']\n",
    "for i in range(0, len(data)):\n",
    "    v = data[i][0]\n",
    "    t = data[i][1]\n",
    "    if (t!=datetime(2020, 4, 5)):\n",
    "        if t not in curr_dict.keys():\n",
    "            curr_dict[t]=v\n",
    "        elif (curr_dict[t]<v):\n",
    "            curr_dict[t]=v\n",
    "miami = list(curr_dict.items())\n",
    "sorted_miami = sorted(miami, key=lambda i: i[0], reverse=False)\n",
    "sorted_miami\n",
    "plt.plot(column(sorted_miami, 0), column(sorted_miami, 1), \"-b\", label=\"Houston\")\n",
    "\n",
    "curr_dict={}\n",
    "data = final_dict['Miami']\n",
    "for i in range(0, len(data)):\n",
    "    v = data[i][0]\n",
    "    t = data[i][1]\n",
    "    if (t!=datetime(2020, 4, 5)):\n",
    "        if t not in curr_dict.keys():\n",
    "            curr_dict[t]=v\n",
    "        elif (curr_dict[t]<v):\n",
    "            curr_dict[t]=v\n",
    "miami = list(curr_dict.items())\n",
    "sorted_miami = sorted(miami, key=lambda i: i[0], reverse=False)\n",
    "sorted_miami\n",
    "plt.plot(column(sorted_miami, 0), column(sorted_miami, 1), \"-r\", label=\"Miami\")\n",
    "\n",
    "\n",
    "curr_dict={}\n",
    "data = final_dict['LA']\n",
    "for i in range(0, len(data)):\n",
    "    v = data[i][0]\n",
    "    t = data[i][1]\n",
    "    if (t!=datetime(2020, 4, 5)):\n",
    "        if t not in curr_dict.keys():\n",
    "            curr_dict[t]=v\n",
    "        elif (curr_dict[t]<v):\n",
    "            curr_dict[t]=v\n",
    "miami = list(curr_dict.items())\n",
    "sorted_miami = sorted(miami, key=lambda i: i[0], reverse=False)\n",
    "sorted_miami\n",
    "plt.plot(column(sorted_miami, 0), column(sorted_miami, 1), \"-g\", label=\"LA\")\n",
    "\n",
    "curr_dict={}\n",
    "data = final_dict['New York City']\n",
    "for i in range(0, len(data)):\n",
    "    v = data[i][0]\n",
    "    t = data[i][1]\n",
    "    if (t!=datetime(2020, 4, 5)):\n",
    "        if t not in curr_dict.keys():\n",
    "            curr_dict[t]=v\n",
    "        elif (curr_dict[t]<v):\n",
    "            curr_dict[t]=v\n",
    "miami = list(curr_dict.items())\n",
    "sorted_miami = sorted(miami, key=lambda i: i[0], reverse=False)\n",
    "sorted_miami\n",
    "plt.plot(column(sorted_miami, 0), column(sorted_miami, 1), \"-c\", label=\"New York City\")\n",
    "\n",
    "curr_dict={}\n",
    "data = final_dict['Chicago']\n",
    "for i in range(0, len(data)):\n",
    "    v = data[i][0]\n",
    "    t = data[i][1]\n",
    "    if (t!=datetime(2020, 4, 5)):\n",
    "        if t not in curr_dict.keys():\n",
    "            curr_dict[t]=v\n",
    "        elif (curr_dict[t]<v):\n",
    "            curr_dict[t]=v\n",
    "miami = list(curr_dict.items())\n",
    "sorted_miami = sorted(miami, key=lambda i: i[0], reverse=False)\n",
    "sorted_miami\n",
    "plt.plot(column(sorted_miami, 0), column(sorted_miami, 1), \"-m\", label=\"Chicago\")\n",
    "\n",
    "\n",
    "curr_dict={}\n",
    "data = final_dict['Atlanta']\n",
    "for i in range(0, len(data)):\n",
    "    v = data[i][0]\n",
    "    t = data[i][1]\n",
    "    if (t!=datetime(2020, 4, 5)):\n",
    "        if t not in curr_dict.keys():\n",
    "            curr_dict[t]=v\n",
    "        elif (curr_dict[t]<v):\n",
    "            curr_dict[t]=v\n",
    "miami = list(curr_dict.items())\n",
    "sorted_miami = sorted(miami, key=lambda i: i[0], reverse=False)\n",
    "sorted_miami\n",
    "plt.plot(column(sorted_miami, 0), column(sorted_miami, 1), \"-y\", label=\"Atlanta\")\n",
    "\n",
    "\n",
    "\n",
    "curr_dict={}\n",
    "data = final_dict['Seattle']\n",
    "for i in range(0, len(data)):\n",
    "    v = data[i][0]\n",
    "    t = data[i][1]\n",
    "    if (t!=datetime(2020, 4, 5)):\n",
    "        if t not in curr_dict.keys():\n",
    "            curr_dict[t]=v\n",
    "        elif (curr_dict[t]<v):\n",
    "            curr_dict[t]=v\n",
    "miami = list(curr_dict.items())\n",
    "sorted_miami = sorted(miami, key=lambda i: i[0], reverse=False)\n",
    "sorted_miami\n",
    "plt.plot(column(sorted_miami, 0), column(sorted_miami, 1), \"-k\", label=\"Seattle\")\n",
    "\n",
    "\n",
    "curr_dict={}\n",
    "data = final_dict['San Francisco']\n",
    "for i in range(0, len(data)):\n",
    "    v = data[i][0]\n",
    "    t = data[i][1]\n",
    "    if (t!=datetime(2020, 4, 5)):\n",
    "        if t not in curr_dict.keys():\n",
    "            curr_dict[t]=v\n",
    "        elif (curr_dict[t]<v):\n",
    "            curr_dict[t]=v\n",
    "miami = list(curr_dict.items())\n",
    "sorted_miami = sorted(miami, key=lambda i: i[0], reverse=False)\n",
    "sorted_miami\n",
    "plt.plot(column(sorted_miami, 0), column(sorted_miami, 1), \"tab:pink\", label=\"San Francisco\")\n",
    "\n",
    "curr_dict={}\n",
    "data = final_dict['Denver']\n",
    "for i in range(0, len(data)):\n",
    "    v = data[i][0]\n",
    "    t = data[i][1]\n",
    "    if (t!=datetime(2020, 4, 5)):\n",
    "        if t not in curr_dict.keys():\n",
    "            curr_dict[t]=v\n",
    "        elif (curr_dict[t]<v):\n",
    "            curr_dict[t]=v\n",
    "miami = list(curr_dict.items())\n",
    "sorted_miami = sorted(miami, key=lambda i: i[0], reverse=False)\n",
    "sorted_miami\n",
    "plt.plot(column(sorted_miami, 0), column(sorted_miami, 1), 'tab:purple', label=\"Denver\")\n",
    "plt.title(\"b) Maxima Normalized Output from STKDE for each Cluster\", fontsize=30)\n",
    "plt.xlabel(\"Date\", fontsize=20)\n",
    "plt.ylabel(\"Normalized Output from STKDE\", fontsize=20)\n",
    "\n",
    "plt.legend(loc=\"upper left\")"
   ]
  },
  {
   "cell_type": "code",
   "execution_count": null,
   "metadata": {},
   "outputs": [],
   "source": [
    ",\"Atlanta\", \"Seattle\", \"San Francisco\", \"Denver\""
   ]
  },
  {
   "cell_type": "code",
   "execution_count": null,
   "metadata": {},
   "outputs": [],
   "source": [
    " 'w'"
   ]
  }
 ],
 "metadata": {
  "kernelspec": {
   "display_name": "Python 3",
   "language": "python",
   "name": "python3"
  },
  "language_info": {
   "codemirror_mode": {
    "name": "ipython",
    "version": 3
   },
   "file_extension": ".py",
   "mimetype": "text/x-python",
   "name": "python",
   "nbconvert_exporter": "python",
   "pygments_lexer": "ipython3",
   "version": "3.7.5"
  }
 },
 "nbformat": 4,
 "nbformat_minor": 4
}
