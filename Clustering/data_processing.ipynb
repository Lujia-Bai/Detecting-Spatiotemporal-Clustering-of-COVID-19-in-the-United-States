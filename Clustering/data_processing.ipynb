{
 "cells": [
  {
   "cell_type": "code",
   "execution_count": 29,
   "metadata": {},
   "outputs": [
    {
     "ename": "ValueError",
     "evalue": "could not convert string to float: 'Atlanta'",
     "output_type": "error",
     "traceback": [
      "\u001b[0;31m---------------------------------------------------------------------------\u001b[0m",
      "\u001b[0;31mValueError\u001b[0m                                Traceback (most recent call last)",
      "\u001b[0;32m<ipython-input-29-0adc211ba644>\u001b[0m in \u001b[0;36m<module>\u001b[0;34m\u001b[0m\n\u001b[1;32m     10\u001b[0m         \u001b[0mfips\u001b[0m \u001b[0;34m=\u001b[0m \u001b[0mline_data\u001b[0m\u001b[0;34m[\u001b[0m\u001b[0;36m2\u001b[0m\u001b[0;34m]\u001b[0m\u001b[0;34m\u001b[0m\u001b[0;34m\u001b[0m\u001b[0m\n\u001b[1;32m     11\u001b[0m         \u001b[0mlat\u001b[0m \u001b[0;34m=\u001b[0m \u001b[0mfloat\u001b[0m\u001b[0;34m(\u001b[0m\u001b[0mline_data\u001b[0m\u001b[0;34m[\u001b[0m\u001b[0;36m12\u001b[0m\u001b[0;34m]\u001b[0m\u001b[0;34m[\u001b[0m\u001b[0;36m1\u001b[0m\u001b[0;34m:\u001b[0m\u001b[0;34m-\u001b[0m\u001b[0;36m1\u001b[0m\u001b[0;34m]\u001b[0m\u001b[0;34m)\u001b[0m\u001b[0;34m\u001b[0m\u001b[0;34m\u001b[0m\u001b[0m\n\u001b[0;32m---> 12\u001b[0;31m         \u001b[0mlon\u001b[0m \u001b[0;34m=\u001b[0m \u001b[0mfloat\u001b[0m\u001b[0;34m(\u001b[0m\u001b[0mline_data\u001b[0m\u001b[0;34m[\u001b[0m\u001b[0;36m13\u001b[0m\u001b[0;34m]\u001b[0m\u001b[0;34m[\u001b[0m\u001b[0;36m1\u001b[0m\u001b[0;34m:\u001b[0m\u001b[0;34m-\u001b[0m\u001b[0;36m2\u001b[0m\u001b[0;34m]\u001b[0m\u001b[0;34m)\u001b[0m\u001b[0;34m*\u001b[0m\u001b[0;34m-\u001b[0m\u001b[0;36m1\u001b[0m\u001b[0;34m\u001b[0m\u001b[0;34m\u001b[0m\u001b[0m\n\u001b[0m\u001b[1;32m     13\u001b[0m         \u001b[0mcounty_dict\u001b[0m\u001b[0;34m[\u001b[0m\u001b[0mindex\u001b[0m\u001b[0;34m]\u001b[0m\u001b[0;34m=\u001b[0m\u001b[0;34m(\u001b[0m\u001b[0mfips\u001b[0m\u001b[0;34m,\u001b[0m \u001b[0mlat\u001b[0m\u001b[0;34m,\u001b[0m \u001b[0mlon\u001b[0m\u001b[0;34m)\u001b[0m\u001b[0;34m\u001b[0m\u001b[0;34m\u001b[0m\u001b[0m\n\u001b[1;32m     14\u001b[0m         \u001b[0mindex\u001b[0m \u001b[0;34m=\u001b[0m \u001b[0mindex\u001b[0m\u001b[0;34m+\u001b[0m\u001b[0;36m1\u001b[0m\u001b[0;34m\u001b[0m\u001b[0;34m\u001b[0m\u001b[0m\n",
      "\u001b[0;31mValueError\u001b[0m: could not convert string to float: 'Atlanta'"
     ]
    }
   ],
   "source": [
    "import pandas as pd\n",
    "import geopandas as gpd\n",
    "import numpy as np\n",
    "from shapely.geometry import Point, LineString\n",
    "county_dict = {}\n",
    "index = 0\n",
    "with open('../county.txt') as fp:\n",
    "    for cnt, line in enumerate(fp):\n",
    "        line_data = line.split(\"\\t\")\n",
    "        fips = line_data[2]\n",
    "        lat = float(line_data[12][1:-1])\n",
    "        lon = float(line_data[13][1:-2])*-1\n",
    "        county_dict[index]=(fips, lat, lon)\n",
    "        index = index+1\n",
    "county_dict[index] = (\"00000\", 40.730610, -73.935242)\n",
    "county_dict[index+1] = (\"00001\", 39.099724, -94.578331)"
   ]
  },
  {
   "cell_type": "code",
   "execution_count": null,
   "metadata": {},
   "outputs": [],
   "source": []
  },
  {
   "cell_type": "code",
   "execution_count": null,
   "metadata": {},
   "outputs": [],
   "source": []
  },
  {
   "cell_type": "code",
   "execution_count": null,
   "metadata": {},
   "outputs": [],
   "source": []
  },
  {
   "cell_type": "code",
   "execution_count": 20,
   "metadata": {},
   "outputs": [],
   "source": [
    "county_dict_df = pd.DataFrame.from_dict(county_dict, orient='index', columns=['id', 'latitude', 'longitude'])\n",
    "s = gpd.GeoSeries([Point(x,y) for x, y in zip(county_dict_df['longitude'], county_dict_df['latitude'])])\n",
    "geo_df = gpd.GeoDataFrame(county_dict_df[['id']], geometry=s)\n",
    "geo_df.crs = {'init': 'epsg:4326'} \n",
    "geo_df = geo_df.to_crs({'init': 'epsg:3857'})"
   ]
  },
  {
   "cell_type": "code",
   "execution_count": null,
   "metadata": {},
   "outputs": [],
   "source": []
  },
  {
   "cell_type": "code",
   "execution_count": 21,
   "metadata": {},
   "outputs": [],
   "source": [
    "final_county_dict = {}\n",
    "for index, row in geo_df.iterrows():\n",
    "    curr_id = row[\"id\"]\n",
    "    x = row[\"geometry\"].y\n",
    "    y = row[\"geometry\"].x\n",
    "    final_county_dict[curr_id] = (x, y)"
   ]
  },
  {
   "cell_type": "code",
   "execution_count": null,
   "metadata": {},
   "outputs": [],
   "source": []
  },
  {
   "cell_type": "code",
   "execution_count": 28,
   "metadata": {},
   "outputs": [],
   "source": [
    "df = pd.read_csv(\"us-counties.csv\")"
   ]
  },
  {
   "cell_type": "code",
   "execution_count": 29,
   "metadata": {},
   "outputs": [
    {
     "data": {
      "text/html": [
       "<div>\n",
       "<style scoped>\n",
       "    .dataframe tbody tr th:only-of-type {\n",
       "        vertical-align: middle;\n",
       "    }\n",
       "\n",
       "    .dataframe tbody tr th {\n",
       "        vertical-align: top;\n",
       "    }\n",
       "\n",
       "    .dataframe thead th {\n",
       "        text-align: right;\n",
       "    }\n",
       "</style>\n",
       "<table border=\"1\" class=\"dataframe\">\n",
       "  <thead>\n",
       "    <tr style=\"text-align: right;\">\n",
       "      <th></th>\n",
       "      <th>date</th>\n",
       "      <th>county</th>\n",
       "      <th>state</th>\n",
       "      <th>fips</th>\n",
       "      <th>cases</th>\n",
       "      <th>deaths</th>\n",
       "    </tr>\n",
       "  </thead>\n",
       "  <tbody>\n",
       "    <tr>\n",
       "      <th>0</th>\n",
       "      <td>2020-01-21</td>\n",
       "      <td>Snohomish</td>\n",
       "      <td>Washington</td>\n",
       "      <td>53061.0</td>\n",
       "      <td>1</td>\n",
       "      <td>0</td>\n",
       "    </tr>\n",
       "    <tr>\n",
       "      <th>1</th>\n",
       "      <td>2020-01-22</td>\n",
       "      <td>Snohomish</td>\n",
       "      <td>Washington</td>\n",
       "      <td>53061.0</td>\n",
       "      <td>1</td>\n",
       "      <td>0</td>\n",
       "    </tr>\n",
       "    <tr>\n",
       "      <th>2</th>\n",
       "      <td>2020-01-23</td>\n",
       "      <td>Snohomish</td>\n",
       "      <td>Washington</td>\n",
       "      <td>53061.0</td>\n",
       "      <td>1</td>\n",
       "      <td>0</td>\n",
       "    </tr>\n",
       "    <tr>\n",
       "      <th>3</th>\n",
       "      <td>2020-01-24</td>\n",
       "      <td>Cook</td>\n",
       "      <td>Illinois</td>\n",
       "      <td>17031.0</td>\n",
       "      <td>1</td>\n",
       "      <td>0</td>\n",
       "    </tr>\n",
       "    <tr>\n",
       "      <th>4</th>\n",
       "      <td>2020-01-24</td>\n",
       "      <td>Snohomish</td>\n",
       "      <td>Washington</td>\n",
       "      <td>53061.0</td>\n",
       "      <td>1</td>\n",
       "      <td>0</td>\n",
       "    </tr>\n",
       "    <tr>\n",
       "      <th>...</th>\n",
       "      <td>...</td>\n",
       "      <td>...</td>\n",
       "      <td>...</td>\n",
       "      <td>...</td>\n",
       "      <td>...</td>\n",
       "      <td>...</td>\n",
       "    </tr>\n",
       "    <tr>\n",
       "      <th>33246</th>\n",
       "      <td>2020-04-04</td>\n",
       "      <td>Sublette</td>\n",
       "      <td>Wyoming</td>\n",
       "      <td>56035.0</td>\n",
       "      <td>1</td>\n",
       "      <td>0</td>\n",
       "    </tr>\n",
       "    <tr>\n",
       "      <th>33247</th>\n",
       "      <td>2020-04-04</td>\n",
       "      <td>Sweetwater</td>\n",
       "      <td>Wyoming</td>\n",
       "      <td>56037.0</td>\n",
       "      <td>4</td>\n",
       "      <td>0</td>\n",
       "    </tr>\n",
       "    <tr>\n",
       "      <th>33248</th>\n",
       "      <td>2020-04-04</td>\n",
       "      <td>Teton</td>\n",
       "      <td>Wyoming</td>\n",
       "      <td>56039.0</td>\n",
       "      <td>36</td>\n",
       "      <td>0</td>\n",
       "    </tr>\n",
       "    <tr>\n",
       "      <th>33249</th>\n",
       "      <td>2020-04-04</td>\n",
       "      <td>Uinta</td>\n",
       "      <td>Wyoming</td>\n",
       "      <td>56041.0</td>\n",
       "      <td>2</td>\n",
       "      <td>0</td>\n",
       "    </tr>\n",
       "    <tr>\n",
       "      <th>33250</th>\n",
       "      <td>2020-04-04</td>\n",
       "      <td>Washakie</td>\n",
       "      <td>Wyoming</td>\n",
       "      <td>56043.0</td>\n",
       "      <td>2</td>\n",
       "      <td>0</td>\n",
       "    </tr>\n",
       "  </tbody>\n",
       "</table>\n",
       "<p>33251 rows × 6 columns</p>\n",
       "</div>"
      ],
      "text/plain": [
       "             date      county       state     fips  cases  deaths\n",
       "0      2020-01-21   Snohomish  Washington  53061.0      1       0\n",
       "1      2020-01-22   Snohomish  Washington  53061.0      1       0\n",
       "2      2020-01-23   Snohomish  Washington  53061.0      1       0\n",
       "3      2020-01-24        Cook    Illinois  17031.0      1       0\n",
       "4      2020-01-24   Snohomish  Washington  53061.0      1       0\n",
       "...           ...         ...         ...      ...    ...     ...\n",
       "33246  2020-04-04    Sublette     Wyoming  56035.0      1       0\n",
       "33247  2020-04-04  Sweetwater     Wyoming  56037.0      4       0\n",
       "33248  2020-04-04       Teton     Wyoming  56039.0     36       0\n",
       "33249  2020-04-04       Uinta     Wyoming  56041.0      2       0\n",
       "33250  2020-04-04    Washakie     Wyoming  56043.0      2       0\n",
       "\n",
       "[33251 rows x 6 columns]"
      ]
     },
     "execution_count": 29,
     "metadata": {},
     "output_type": "execute_result"
    }
   ],
   "source": [
    "df"
   ]
  },
  {
   "cell_type": "code",
   "execution_count": 30,
   "metadata": {},
   "outputs": [
    {
     "data": {
      "text/plain": [
       "datetime.date(2010, 5, 24)"
      ]
     },
     "execution_count": 30,
     "metadata": {},
     "output_type": "execute_result"
    }
   ],
   "source": [
    "import datetime\n",
    "datetime.datetime.strptime(\"2015-02-24T13:00:00-08:00\", \"%Y-%B-%dT%H:%M:%S-%H:%M\").date()"
   ]
  },
  {
   "cell_type": "code",
   "execution_count": 3,
   "metadata": {},
   "outputs": [],
   "source": [
    "import pandas as pd\n",
    "import geopandas as gpd\n",
    "import numpy as np\n",
    "from shapely.geometry import Point, LineString\n",
    "df = pd.read_csv(\"us-counties.csv\")\n",
    "\n",
    "case_dict = {}\n",
    "death_dict = {}\n",
    "\n",
    "for i, row in enumerate(df.values):\n",
    "    time = row[0]\n",
    "    case = int(row[4])\n",
    "    death = int(row[5])\n",
    "    if time in case_dict.keys():\n",
    "        case_dict[time]=case_dict[time]+case\n",
    "    else:\n",
    "        case_dict[time]=case\n",
    "    if time in death_dict.keys():\n",
    "        death_dict[time]=death_dict[time]+death\n",
    "    else:\n",
    "        death_dict[time]=death"
   ]
  },
  {
   "cell_type": "code",
   "execution_count": 13,
   "metadata": {},
   "outputs": [
    {
     "data": {
      "text/plain": [
       "[1,\n",
       " 1,\n",
       " 1,\n",
       " 2,\n",
       " 3,\n",
       " 5,\n",
       " 5,\n",
       " 5,\n",
       " 5,\n",
       " 6,\n",
       " 7,\n",
       " 8,\n",
       " 11,\n",
       " 11,\n",
       " 11,\n",
       " 12,\n",
       " 12,\n",
       " 12,\n",
       " 12,\n",
       " 12,\n",
       " 13,\n",
       " 13,\n",
       " 14,\n",
       " 15,\n",
       " 15,\n",
       " 15,\n",
       " 15,\n",
       " 25,\n",
       " 25,\n",
       " 25,\n",
       " 27,\n",
       " 30,\n",
       " 30,\n",
       " 30,\n",
       " 43,\n",
       " 45,\n",
       " 60,\n",
       " 60,\n",
       " 65,\n",
       " 70,\n",
       " 88,\n",
       " 104,\n",
       " 125,\n",
       " 161,\n",
       " 228,\n",
       " 311,\n",
       " 428,\n",
       " 547,\n",
       " 748,\n",
       " 1018,\n",
       " 1263,\n",
       " 1668,\n",
       " 2224,\n",
       " 2898,\n",
       " 3600,\n",
       " 4507,\n",
       " 5905,\n",
       " 8345,\n",
       " 12413,\n",
       " 17996,\n",
       " 24532,\n",
       " 33061,\n",
       " 43499,\n",
       " 54186,\n",
       " 68775,\n",
       " 85615,\n",
       " 102913,\n",
       " 123831,\n",
       " 142178,\n",
       " 163672,\n",
       " 187962,\n",
       " 214760,\n",
       " 243747,\n",
       " 276091,\n",
       " 310807]"
      ]
     },
     "execution_count": 13,
     "metadata": {},
     "output_type": "execute_result"
    }
   ],
   "source": [
    "def column(matrix, i):\n",
    "    return [row[i] for row in matrix]\n",
    "column(case_dict.items(), 1)"
   ]
  },
  {
   "cell_type": "code",
   "execution_count": 28,
   "metadata": {},
   "outputs": [
    {
     "data": {
      "text/plain": [
       "<matplotlib.legend.Legend at 0x12b175790>"
      ]
     },
     "execution_count": 28,
     "metadata": {},
     "output_type": "execute_result"
    },
    {
     "data": {
      "image/png": "[encoded data removed]",
      "text/plain": [
       "<Figure size 432x288 with 1 Axes>"
      ]
     },
     "metadata": {
      "needs_background": "light"
     },
     "output_type": "display_data"
    }
   ],
   "source": [
    "%matplotlib inline\n",
    "import matplotlib.pyplot as plt\n",
    "#plt.style.use('seaborn-whitegrid')\n",
    "import numpy as np\n",
    "plt.plot(date_arr, column(case_dict.items(), 1), \"-b\", label=\"Case\");\n",
    "plt.plot(date_arr, column(death_dict.items(), 1), \"-r\", label=\"Death\");\n",
    "plt.title(\"COVID-19 Confirmed Cases & Death in US\")\n",
    "plt.xlabel(\"Date\")\n",
    "plt.ylabel(\"Number\")\n",
    "plt.legend(loc=\"upper left\")"
   ]
  },
  {
   "cell_type": "code",
   "execution_count": 23,
   "metadata": {},
   "outputs": [
    {
     "data": {
      "text/plain": [
       "[datetime.datetime(2020, 1, 21, 0, 0),\n",
       " datetime.datetime(2020, 1, 22, 0, 0),\n",
       " datetime.datetime(2020, 1, 23, 0, 0),\n",
       " datetime.datetime(2020, 1, 24, 0, 0),\n",
       " datetime.datetime(2020, 1, 25, 0, 0),\n",
       " datetime.datetime(2020, 1, 26, 0, 0),\n",
       " datetime.datetime(2020, 1, 27, 0, 0),\n",
       " datetime.datetime(2020, 1, 28, 0, 0),\n",
       " datetime.datetime(2020, 1, 29, 0, 0),\n",
       " datetime.datetime(2020, 1, 30, 0, 0),\n",
       " datetime.datetime(2020, 1, 31, 0, 0),\n",
       " datetime.datetime(2020, 2, 1, 0, 0),\n",
       " datetime.datetime(2020, 2, 2, 0, 0),\n",
       " datetime.datetime(2020, 2, 3, 0, 0),\n",
       " datetime.datetime(2020, 2, 4, 0, 0),\n",
       " datetime.datetime(2020, 2, 5, 0, 0),\n",
       " datetime.datetime(2020, 2, 6, 0, 0),\n",
       " datetime.datetime(2020, 2, 7, 0, 0),\n",
       " datetime.datetime(2020, 2, 8, 0, 0),\n",
       " datetime.datetime(2020, 2, 9, 0, 0),\n",
       " datetime.datetime(2020, 2, 10, 0, 0),\n",
       " datetime.datetime(2020, 2, 11, 0, 0),\n",
       " datetime.datetime(2020, 2, 12, 0, 0),\n",
       " datetime.datetime(2020, 2, 13, 0, 0),\n",
       " datetime.datetime(2020, 2, 14, 0, 0),\n",
       " datetime.datetime(2020, 2, 15, 0, 0),\n",
       " datetime.datetime(2020, 2, 16, 0, 0),\n",
       " datetime.datetime(2020, 2, 17, 0, 0),\n",
       " datetime.datetime(2020, 2, 18, 0, 0),\n",
       " datetime.datetime(2020, 2, 19, 0, 0),\n",
       " datetime.datetime(2020, 2, 20, 0, 0),\n",
       " datetime.datetime(2020, 2, 21, 0, 0),\n",
       " datetime.datetime(2020, 2, 22, 0, 0),\n",
       " datetime.datetime(2020, 2, 23, 0, 0),\n",
       " datetime.datetime(2020, 2, 24, 0, 0),\n",
       " datetime.datetime(2020, 2, 25, 0, 0),\n",
       " datetime.datetime(2020, 2, 26, 0, 0),\n",
       " datetime.datetime(2020, 2, 27, 0, 0),\n",
       " datetime.datetime(2020, 2, 28, 0, 0),\n",
       " datetime.datetime(2020, 2, 29, 0, 0),\n",
       " datetime.datetime(2020, 3, 1, 0, 0),\n",
       " datetime.datetime(2020, 3, 2, 0, 0),\n",
       " datetime.datetime(2020, 3, 3, 0, 0),\n",
       " datetime.datetime(2020, 3, 4, 0, 0),\n",
       " datetime.datetime(2020, 3, 5, 0, 0),\n",
       " datetime.datetime(2020, 3, 6, 0, 0),\n",
       " datetime.datetime(2020, 3, 7, 0, 0),\n",
       " datetime.datetime(2020, 3, 8, 0, 0),\n",
       " datetime.datetime(2020, 3, 9, 0, 0),\n",
       " datetime.datetime(2020, 3, 10, 0, 0),\n",
       " datetime.datetime(2020, 3, 11, 0, 0),\n",
       " datetime.datetime(2020, 3, 12, 0, 0),\n",
       " datetime.datetime(2020, 3, 13, 0, 0),\n",
       " datetime.datetime(2020, 3, 14, 0, 0),\n",
       " datetime.datetime(2020, 3, 15, 0, 0),\n",
       " datetime.datetime(2020, 3, 16, 0, 0),\n",
       " datetime.datetime(2020, 3, 17, 0, 0),\n",
       " datetime.datetime(2020, 3, 18, 0, 0),\n",
       " datetime.datetime(2020, 3, 19, 0, 0),\n",
       " datetime.datetime(2020, 3, 20, 0, 0),\n",
       " datetime.datetime(2020, 3, 21, 0, 0),\n",
       " datetime.datetime(2020, 3, 22, 0, 0),\n",
       " datetime.datetime(2020, 3, 23, 0, 0),\n",
       " datetime.datetime(2020, 3, 24, 0, 0),\n",
       " datetime.datetime(2020, 3, 25, 0, 0),\n",
       " datetime.datetime(2020, 3, 26, 0, 0),\n",
       " datetime.datetime(2020, 3, 27, 0, 0),\n",
       " datetime.datetime(2020, 3, 28, 0, 0),\n",
       " datetime.datetime(2020, 3, 29, 0, 0),\n",
       " datetime.datetime(2020, 3, 30, 0, 0),\n",
       " datetime.datetime(2020, 3, 31, 0, 0),\n",
       " datetime.datetime(2020, 4, 1, 0, 0),\n",
       " datetime.datetime(2020, 4, 2, 0, 0),\n",
       " datetime.datetime(2020, 4, 3, 0, 0),\n",
       " datetime.datetime(2020, 4, 4, 0, 0)]"
      ]
     },
     "execution_count": 23,
     "metadata": {},
     "output_type": "execute_result"
    }
   ],
   "source": [
    "import datetime\n",
    "date = 0\n",
    "date_arr = []\n",
    "for i in range(0,len(column(case_dict.items(), 0))):\n",
    "    date_arr.append(datetime.datetime.strptime(column(case_dict.items(), 0)[i], '%Y-%m-%d'))\n",
    "date_arr"
   ]
  },
  {
   "cell_type": "code",
   "execution_count": 21,
   "metadata": {},
   "outputs": [
    {
     "data": {
      "text/plain": [
       "['2020-01-21',\n",
       " '2020-01-22',\n",
       " '2020-01-23',\n",
       " '2020-01-24',\n",
       " '2020-01-25',\n",
       " '2020-01-26',\n",
       " '2020-01-27',\n",
       " '2020-01-28',\n",
       " '2020-01-29',\n",
       " '2020-01-30',\n",
       " '2020-01-31',\n",
       " '2020-02-01',\n",
       " '2020-02-02',\n",
       " '2020-02-03',\n",
       " '2020-02-04',\n",
       " '2020-02-05',\n",
       " '2020-02-06',\n",
       " '2020-02-07',\n",
       " '2020-02-08',\n",
       " '2020-02-09',\n",
       " '2020-02-10',\n",
       " '2020-02-11',\n",
       " '2020-02-12',\n",
       " '2020-02-13',\n",
       " '2020-02-14',\n",
       " '2020-02-15',\n",
       " '2020-02-16',\n",
       " '2020-02-17',\n",
       " '2020-02-18',\n",
       " '2020-02-19',\n",
       " '2020-02-20',\n",
       " '2020-02-21',\n",
       " '2020-02-22',\n",
       " '2020-02-23',\n",
       " '2020-02-24',\n",
       " '2020-02-25',\n",
       " '2020-02-26',\n",
       " '2020-02-27',\n",
       " '2020-02-28',\n",
       " '2020-02-29',\n",
       " '2020-03-01',\n",
       " '2020-03-02',\n",
       " '2020-03-03',\n",
       " '2020-03-04',\n",
       " '2020-03-05',\n",
       " '2020-03-06',\n",
       " '2020-03-07',\n",
       " '2020-03-08',\n",
       " '2020-03-09',\n",
       " '2020-03-10',\n",
       " '2020-03-11',\n",
       " '2020-03-12',\n",
       " '2020-03-13',\n",
       " '2020-03-14',\n",
       " '2020-03-15',\n",
       " '2020-03-16',\n",
       " '2020-03-17',\n",
       " '2020-03-18',\n",
       " '2020-03-19',\n",
       " '2020-03-20',\n",
       " '2020-03-21',\n",
       " '2020-03-22',\n",
       " '2020-03-23',\n",
       " '2020-03-24',\n",
       " '2020-03-25',\n",
       " '2020-03-26',\n",
       " '2020-03-27',\n",
       " '2020-03-28',\n",
       " '2020-03-29',\n",
       " '2020-03-30',\n",
       " '2020-03-31',\n",
       " '2020-04-01',\n",
       " '2020-04-02',\n",
       " '2020-04-03',\n",
       " '2020-04-04']"
      ]
     },
     "execution_count": 21,
     "metadata": {},
     "output_type": "execute_result"
    }
   ],
   "source": [
    "column(case_dict.items(), 0)"
   ]
  },
  {
   "cell_type": "code",
   "execution_count": null,
   "metadata": {},
   "outputs": [],
   "source": []
  },
  {
   "cell_type": "code",
   "execution_count": 118,
   "metadata": {},
   "outputs": [],
   "source": [
    "rt = []\n",
    "##[lat, lon, time, case_no]\n",
    "for index, row in df.iterrows():   \n",
    "    if (row[\"county\"]==\"New York City\"):\n",
    "        ## replace new york city fips with 00000\n",
    "        rt.append([\"00000\", 40.730610, -73.935242, row[\"date\"], int(row[\"cases\"])])\n",
    "    elif (row[\"county\"]==\"Kansas City\"):\n",
    "        ## replace kansas city fips with 00001\n",
    "        rt.append([\"00001\", 39.099724, -94.578331, row[\"date\"], int(row[\"cases\"])])\n",
    "    elif (row[\"state\"]!=\"Alaska\" and row[\"state\"]!=\"Hawaii\" and row[\"county\"]!=\"Unknown\"):\n",
    "        fips = str(int(row[\"fips\"]))\n",
    "        if (len(fips)!=5):\n",
    "            fips = \"0\"+fips\n",
    "        lat = final_county_dict[fips][0]\n",
    "        lon = final_county_dict[fips][1]\n",
    "        rt.append([fips, lat, lon, row[\"date\"], int(row[\"cases\"])])"
   ]
  },
  {
   "cell_type": "code",
   "execution_count": 119,
   "metadata": {},
   "outputs": [],
   "source": [
    "county_case_dict = {}\n",
    "for i in range(0, len(rt)):\n",
    "    curr_fips = rt[i][0]\n",
    "    if (curr_fips in county_case_dict.keys()):\n",
    "        curr_date = rt[i][3]\n",
    "        curr_no = rt[i][4]\n",
    "        prev_no = 0\n",
    "        prev_record = county_case_dict[curr_fips]\n",
    "        for j in range(0, len(prev_record)):\n",
    "            prev_no = prev_no+prev_record[j][1]\n",
    "        day_no = curr_no-prev_no\n",
    "        if (day_no!=0):\n",
    "            county_case_dict[curr_fips].append((curr_date, day_no))\n",
    "    else:\n",
    "        county_case_dict[curr_fips]=[(rt[i][3],rt[i][4])]"
   ]
  },
  {
   "cell_type": "code",
   "execution_count": 120,
   "metadata": {},
   "outputs": [],
   "source": [
    "final_rt = []\n",
    "total_case = 0\n",
    "for county in county_case_dict.keys():\n",
    "    lat = round(final_county_dict[county][0])\n",
    "    lon = round(final_county_dict[county][1])\n",
    "    record = county_case_dict[county]\n",
    "    for case in record:\n",
    "        date = case[0]\n",
    "        case_no = case[1]\n",
    "        curr_time = 0\n",
    "        #print(date)\n",
    "        mon = int(date.split(\"-\")[1])\n",
    "        day = int(date.split(\"-\")[2])\n",
    "        if (mon == 1):\n",
    "            curr_time = day-21\n",
    "        elif (mon == 2):\n",
    "            curr_time = 31+day-21\n",
    "        elif (mon == 3):\n",
    "            curr_time = 31+29+day-21 = 54\n",
    "        elif (mon == 4):\n",
    "            curr_time = 31+29+31+day-21\n",
    "        else:\n",
    "            print(\"Invalid Data\")\n",
    "        total_case = total_case+case_no\n",
    "        for i in range(0, case_no):\n",
    "            final_time = curr_time+((i+1)/(case_no+1))\n",
    "            final_rt.append([lat, lon*(-1), final_time])"
   ]
  },
  {
   "cell_type": "code",
   "execution_count": 121,
   "metadata": {},
   "outputs": [
    {
     "data": {
      "text/plain": [
       "304394"
      ]
     },
     "execution_count": 121,
     "metadata": {},
     "output_type": "execute_result"
    }
   ],
   "source": [
    "len(final_rt)"
   ]
  },
  {
   "cell_type": "code",
   "execution_count": 122,
   "metadata": {},
   "outputs": [
    {
     "name": "stdout",
     "output_type": "stream",
     "text": [
      "0\n",
      "100000\n",
      "200000\n",
      "300000\n"
     ]
    }
   ],
   "source": [
    "rt_str = \"{\"\n",
    "for i in range(0, len(final_rt)):\n",
    "    if (i%100000==0):\n",
    "        print (i)\n",
    "    rt_str = rt_str+\"{\"+str(final_rt[i][0])+\",\"+str(final_rt[i][1])+\",\"+str(final_rt[i][2])+\"},\"\n",
    "rt_str = rt_str+\"}\""
   ]
  },
  {
   "cell_type": "code",
   "execution_count": 123,
   "metadata": {},
   "outputs": [],
   "source": [
    "f = open(\"rt.txt\", \"w\")\n",
    "f.write(rt_str)\n",
    "f.close()"
   ]
  },
  {
   "cell_type": "code",
   "execution_count": 124,
   "metadata": {},
   "outputs": [
    {
     "data": {
      "text/plain": [
       "304394"
      ]
     },
     "execution_count": 124,
     "metadata": {},
     "output_type": "execute_result"
    }
   ],
   "source": [
    "len(final_rt)"
   ]
  },
  {
   "cell_type": "code",
   "execution_count": 125,
   "metadata": {},
   "outputs": [],
   "source": [
    "def column(matrix, i):\n",
    "    return [row[i] for row in matrix]"
   ]
  },
  {
   "cell_type": "code",
   "execution_count": 126,
   "metadata": {},
   "outputs": [
    {
     "data": {
      "text/plain": [
       "2949752"
      ]
     },
     "execution_count": 126,
     "metadata": {},
     "output_type": "execute_result"
    }
   ],
   "source": [
    "min(column(final_rt, 0))"
   ]
  },
  {
   "cell_type": "code",
   "execution_count": 127,
   "metadata": {},
   "outputs": [
    {
     "data": {
      "text/plain": [
       "6248205"
      ]
     },
     "execution_count": 127,
     "metadata": {},
     "output_type": "execute_result"
    }
   ],
   "source": [
    "max(column(final_rt, 0))"
   ]
  },
  {
   "cell_type": "code",
   "execution_count": 128,
   "metadata": {},
   "outputs": [
    {
     "data": {
      "text/plain": [
       "7526239"
      ]
     },
     "execution_count": 128,
     "metadata": {},
     "output_type": "execute_result"
    }
   ],
   "source": [
    "min(column(final_rt, 1))"
   ]
  },
  {
   "cell_type": "code",
   "execution_count": 129,
   "metadata": {},
   "outputs": [
    {
     "data": {
      "text/plain": [
       "13801502"
      ]
     },
     "execution_count": 129,
     "metadata": {},
     "output_type": "execute_result"
    }
   ],
   "source": [
    "max(column(final_rt, 1))"
   ]
  },
  {
   "cell_type": "code",
   "execution_count": 130,
   "metadata": {},
   "outputs": [
    {
     "data": {
      "text/plain": [
       "74.9998373454782"
      ]
     },
     "execution_count": 130,
     "metadata": {},
     "output_type": "execute_result"
    }
   ],
   "source": [
    "max(column(final_rt, 2))"
   ]
  },
  {
   "cell_type": "code",
   "execution_count": 131,
   "metadata": {},
   "outputs": [
    {
     "data": {
      "text/plain": [
       "0.5"
      ]
     },
     "execution_count": 131,
     "metadata": {},
     "output_type": "execute_result"
    }
   ],
   "source": [
    "min(column(final_rt, 2))"
   ]
  },
  {
   "cell_type": "code",
   "execution_count": 132,
   "metadata": {},
   "outputs": [],
   "source": [
    "f = open(\"new_data.txt\", \"w\")\n",
    "for i in range(0, len(final_rt)):\n",
    "    curr_str = str(final_rt[i][0])+\",\"+str(final_rt[i][1])+\",\"+str(final_rt[i][2])+\"\\n\"\n",
    "    f.write(curr_str)\n",
    "f.close()"
   ]
  },
  {
   "cell_type": "code",
   "execution_count": 143,
   "metadata": {},
   "outputs": [
    {
     "data": {
      "text/plain": [
       "596345.2568172573"
      ]
     },
     "execution_count": 143,
     "metadata": {},
     "output_type": "execute_result"
    }
   ],
   "source": [
    "np.std(column(final_rt, 0))"
   ]
  },
  {
   "cell_type": "code",
   "execution_count": 146,
   "metadata": {},
   "outputs": [
    {
     "data": {
      "text/plain": [
       "304394"
      ]
     },
     "execution_count": 146,
     "metadata": {},
     "output_type": "execute_result"
    }
   ],
   "source": [
    "len(final_rt)"
   ]
  },
  {
   "cell_type": "code",
   "execution_count": 144,
   "metadata": {},
   "outputs": [
    {
     "data": {
      "text/plain": [
       "217041.124316897"
      ]
     },
     "execution_count": 144,
     "metadata": {},
     "output_type": "execute_result"
    }
   ],
   "source": [
    "2.21*len(final_rt)**((-1)/7)*np.std(column(final_rt, 0))"
   ]
  },
  {
   "cell_type": "code",
   "execution_count": 145,
   "metadata": {},
   "outputs": [
    {
     "data": {
      "text/plain": [
       "15.197364141848071"
      ]
     },
     "execution_count": 145,
     "metadata": {},
     "output_type": "execute_result"
    }
   ],
   "source": [
    "(max(column(final_rt, 0))-min(column(final_rt, 0)))/217041.124316897"
   ]
  },
  {
   "cell_type": "code",
   "execution_count": 148,
   "metadata": {},
   "outputs": [],
   "source": [
    "x = column(final_rt, 0)\n",
    "y = column(final_rt, 1)\n",
    "z = column(final_rt, 2)"
   ]
  },
  {
   "cell_type": "code",
   "execution_count": 154,
   "metadata": {},
   "outputs": [
    {
     "data": {
      "text/plain": [
       "217041.124316897"
      ]
     },
     "execution_count": 154,
     "metadata": {},
     "output_type": "execute_result"
    }
   ],
   "source": [
    "len(final_rt)**(-1/7)*2.21*np.std(column(final_rt, 0))"
   ]
  },
  {
   "cell_type": "code",
   "execution_count": 155,
   "metadata": {},
   "outputs": [
    {
     "data": {
      "text/plain": [
       "555115.1942688536"
      ]
     },
     "execution_count": 155,
     "metadata": {},
     "output_type": "execute_result"
    }
   ],
   "source": [
    "len(final_rt)**(-1/7)*2.21*np.std(column(final_rt, 1))"
   ]
  },
  {
   "cell_type": "code",
   "execution_count": 159,
   "metadata": {},
   "outputs": [
    {
     "data": {
      "text/plain": [
       "1.8008192497590723"
      ]
     },
     "execution_count": 159,
     "metadata": {},
     "output_type": "execute_result"
    }
   ],
   "source": [
    "len(final_rt)**(-1/7)*2.21*np.std(column(final_rt, 2))"
   ]
  },
  {
   "cell_type": "code",
   "execution_count": 160,
   "metadata": {},
   "outputs": [
    {
     "data": {
      "text/plain": [
       "3298453"
      ]
     },
     "execution_count": 160,
     "metadata": {},
     "output_type": "execute_result"
    }
   ],
   "source": [
    "6248205-2949752"
   ]
  },
  {
   "cell_type": "code",
   "execution_count": 166,
   "metadata": {},
   "outputs": [
    {
     "data": {
      "text/plain": [
       "90.95172797672122"
      ]
     },
     "execution_count": 166,
     "metadata": {},
     "output_type": "execute_result"
    }
   ],
   "source": [
    "3000/3298453*100000\n"
   ]
  },
  {
   "cell_type": "code",
   "execution_count": 167,
   "metadata": {},
   "outputs": [
    {
     "data": {
      "text/plain": [
       "32.98453"
      ]
     },
     "execution_count": 167,
     "metadata": {},
     "output_type": "execute_result"
    }
   ],
   "source": [
    "3298453/100000"
   ]
  },
  {
   "cell_type": "code",
   "execution_count": null,
   "metadata": {},
   "outputs": [],
   "source": []
  }
 ],
 "metadata": {
  "kernelspec": {
   "display_name": "Python 3",
   "language": "python",
   "name": "python3"
  },
  "language_info": {
   "codemirror_mode": {
    "name": "ipython",
    "version": 3
   },
   "file_extension": ".py",
   "mimetype": "text/x-python",
   "name": "python",
   "nbconvert_exporter": "python",
   "pygments_lexer": "ipython3",
   "version": "3.7.5"
  }
 },
 "nbformat": 4,
 "nbformat_minor": 4
}
