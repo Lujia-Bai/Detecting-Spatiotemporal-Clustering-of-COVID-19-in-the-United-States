{
 "cells": [
  {
   "cell_type": "code",
   "execution_count": 7,
   "metadata": {},
   "outputs": [
    {
     "name": "stdout",
     "output_type": "stream",
     "text": [
      "5000000.0\n",
      "8200000.0\n",
      "73.0\n"
     ]
    }
   ],
   "source": [
    "import numpy as np\n",
    "dict = {}\n",
    "temp = []\n",
    "filepath = 'final_stkde.txt'\n",
    "with open(filepath) as fp:\n",
    "    for cnt, line in enumerate(fp):\n",
    "        x = float(line.split(\",\")[0])\n",
    "        y = float(line.split(\",\")[1])\n",
    "        z = float(line.split(\",\")[2])\n",
    "        v = float(line.split(\",\")[3][:-1])\n",
    "        temp.append(v)\n",
    "        dict[(x,y,z)]=v\n",
    "        if (v==7.652685752263285e-08):\n",
    "            print(x)\n",
    "            print(y)\n",
    "            print(z)"
   ]
  },
  {
   "cell_type": "code",
   "execution_count": 8,
   "metadata": {},
   "outputs": [],
   "source": [
    "arr = []\n",
    "total = 0\n",
    "for i in range(3000000, 6248205, 100000):\n",
    "    for j in range(7600000, 13801502, 100000):\n",
    "        for z in range(0, 75):\n",
    "            total = total+1\n",
    "            value = 0\n",
    "            try:\n",
    "                value = dict[(float(i),float(j),float(z))]\n",
    "            except:\n",
    "                pass\n",
    "            arr.append(value)"
   ]
  },
  {
   "cell_type": "code",
   "execution_count": 13,
   "metadata": {},
   "outputs": [
    {
     "data": {
      "text/plain": [
       "6.487534251720931e-07"
      ]
     },
     "execution_count": 13,
     "metadata": {},
     "output_type": "execute_result"
    }
   ],
   "source": [
    "np.linalg.norm(arr)"
   ]
  },
  {
   "cell_type": "code",
   "execution_count": 11,
   "metadata": {},
   "outputs": [],
   "source": [
    "norm1 = arr / np.linalg.norm(arr)"
   ]
  },
  {
   "cell_type": "code",
   "execution_count": 197,
   "metadata": {},
   "outputs": [
    {
     "data": {
      "text/plain": [
       "0.11795985123675111"
      ]
     },
     "execution_count": 197,
     "metadata": {},
     "output_type": "execute_result"
    }
   ],
   "source": [
    "max(norm1)"
   ]
  },
  {
   "cell_type": "code",
   "execution_count": 198,
   "metadata": {},
   "outputs": [
    {
     "data": {
      "image/png": "[encoded data removed]",
      "text/plain": [
       "<Figure size 432x288 with 1 Axes>"
      ]
     },
     "metadata": {
      "needs_background": "light"
     },
     "output_type": "display_data"
    }
   ],
   "source": [
    "import numpy as np\n",
    "import matplotlib.mlab as mlab\n",
    "import matplotlib.pyplot as plt\n",
    "from matplotlib.ticker import PercentFormatter\n",
    "%matplotlib inline\n",
    "num_bins = 50\n",
    "n, bins, patches = plt.hist(norm1, num_bins, weights=np.ones(len(norm1)) / len(norm1), facecolor='black', alpha=0.5)\n",
    "plt.gca().yaxis.set_major_formatter(PercentFormatter(1))\n",
    "plt.title('Distribution of Normalized Density of STKDE')\n",
    "plt.xlabel('Standardized Density of STKDE')\n",
    "\n",
    "plt.show()"
   ]
  },
  {
   "cell_type": "code",
   "execution_count": 200,
   "metadata": {},
   "outputs": [
    {
     "data": {
      "image/png": "[encoded data removed]",
      "text/plain": [
       "<Figure size 432x288 with 1 Axes>"
      ]
     },
     "metadata": {
      "needs_background": "light"
     },
     "output_type": "display_data"
    }
   ],
   "source": [
    "import numpy as np\n",
    "import matplotlib.mlab as mlab\n",
    "import matplotlib.pyplot as plt\n",
    "from matplotlib.ticker import PercentFormatter\n",
    "%matplotlib inline\n",
    "num_bins = 50\n",
    "values, base = np.histogram(norm1, num_bins)\n",
    "\n",
    "cumulative = np.cumsum(values)\n",
    "\n",
    "\n",
    "plt.plot(base[:-1], cumulative/155925, c='black')\n",
    "plt.gca().yaxis.set_major_formatter(PercentFormatter(1))\n",
    "plt.title('Cumulative Distribution of Normalized Density of STKDE')\n",
    "plt.xlabel('Standardized Density of STKDE')\n",
    "plt.show()\n"
   ]
  },
  {
   "cell_type": "code",
   "execution_count": 201,
   "metadata": {},
   "outputs": [
    {
     "data": {
      "text/plain": [
       "array([0.98671797, 0.99324675, 0.99556197, 0.99664582, 0.99724868,\n",
       "       0.99760141, 0.99776816, 0.99792849, 0.99801828, 0.99815937,\n",
       "       0.99824916, 0.99835177, 0.9984608 , 0.99856983, 0.9986532 ,\n",
       "       0.99872375, 0.99883277, 0.99891615, 0.99899952, 0.99909572,\n",
       "       0.99917909, 0.99924323, 0.99929453, 0.99935867, 0.99940997,\n",
       "       0.99946769, 0.99950617, 0.99955748, 0.99959596, 0.99964085,\n",
       "       0.99967933, 0.99971781, 0.99974347, 0.99976912, 0.99979477,\n",
       "       0.99983325, 0.99986532, 0.99987173, 0.99988456, 0.9999038 ,\n",
       "       0.99991663, 0.99992945, 0.99994228, 0.99994869, 0.99996152,\n",
       "       0.99997435, 0.99997435, 0.99998717, 0.99998717, 1.        ])"
      ]
     },
     "execution_count": 201,
     "metadata": {},
     "output_type": "execute_result"
    }
   ],
   "source": [
    "cumulative/155925"
   ]
  },
  {
   "cell_type": "code",
   "execution_count": 213,
   "metadata": {},
   "outputs": [],
   "source": [
    "threshold = np.percentile(arr, 98)"
   ]
  },
  {
   "cell_type": "code",
   "execution_count": 214,
   "metadata": {},
   "outputs": [
    {
     "data": {
      "text/plain": [
       "155925"
      ]
     },
     "execution_count": 214,
     "metadata": {},
     "output_type": "execute_result"
    }
   ],
   "source": [
    "len(arr)"
   ]
  },
  {
   "cell_type": "code",
   "execution_count": 215,
   "metadata": {},
   "outputs": [
    {
     "data": {
      "text/plain": [
       "1.0673106357375506e-09"
      ]
     },
     "execution_count": 215,
     "metadata": {},
     "output_type": "execute_result"
    }
   ],
   "source": [
    "threshold"
   ]
  },
  {
   "cell_type": "code",
   "execution_count": 216,
   "metadata": {},
   "outputs": [],
   "source": [
    "final_rt = []\n",
    "for i in range(0, len(arr)):\n",
    "    if (arr[i]>threshold):\n",
    "        final_rt.append(arr[i])"
   ]
  },
  {
   "cell_type": "code",
   "execution_count": 217,
   "metadata": {},
   "outputs": [
    {
     "data": {
      "text/plain": [
       "3119"
      ]
     },
     "execution_count": 217,
     "metadata": {},
     "output_type": "execute_result"
    }
   ],
   "source": [
    "len(final_rt)"
   ]
  },
  {
   "cell_type": "code",
   "execution_count": 182,
   "metadata": {},
   "outputs": [
    {
     "data": {
      "text/plain": [
       "3545"
      ]
     },
     "execution_count": 182,
     "metadata": {},
     "output_type": "execute_result"
    }
   ],
   "source": [
    "709*5"
   ]
  },
  {
   "cell_type": "code",
   "execution_count": null,
   "metadata": {},
   "outputs": [],
   "source": []
  }
 ],
 "metadata": {
  "kernelspec": {
   "display_name": "Python 3",
   "language": "python",
   "name": "python3"
  },
  "language_info": {
   "codemirror_mode": {
    "name": "ipython",
    "version": 3
   },
   "file_extension": ".py",
   "mimetype": "text/x-python",
   "name": "python",
   "nbconvert_exporter": "python",
   "pygments_lexer": "ipython3",
   "version": "3.7.5"
  }
 },
 "nbformat": 4,
 "nbformat_minor": 4
}
